{
 "cells": [
  {
   "cell_type": "code",
   "execution_count": 1,
   "id": "28fca3ae",
   "metadata": {},
   "outputs": [],
   "source": [
    "import pandas as pd"
   ]
  },
  {
   "cell_type": "code",
   "execution_count": 2,
   "id": "29c6ff80",
   "metadata": {},
   "outputs": [
    {
     "data": {
      "text/html": [
       "<div>\n",
       "<style scoped>\n",
       "    .dataframe tbody tr th:only-of-type {\n",
       "        vertical-align: middle;\n",
       "    }\n",
       "\n",
       "    .dataframe tbody tr th {\n",
       "        vertical-align: top;\n",
       "    }\n",
       "\n",
       "    .dataframe thead th {\n",
       "        text-align: right;\n",
       "    }\n",
       "</style>\n",
       "<table border=\"1\" class=\"dataframe\">\n",
       "  <thead>\n",
       "    <tr style=\"text-align: right;\">\n",
       "      <th></th>\n",
       "      <th>Date</th>\n",
       "      <th>Open</th>\n",
       "      <th>High</th>\n",
       "      <th>Low</th>\n",
       "      <th>Close</th>\n",
       "      <th>Adj Close</th>\n",
       "      <th>Volume</th>\n",
       "    </tr>\n",
       "  </thead>\n",
       "  <tbody>\n",
       "    <tr>\n",
       "      <th>0</th>\n",
       "      <td>2018-01-01</td>\n",
       "      <td>233.625061</td>\n",
       "      <td>240.000061</td>\n",
       "      <td>232.087555</td>\n",
       "      <td>237.412552</td>\n",
       "      <td>232.183533</td>\n",
       "      <td>4467194</td>\n",
       "    </tr>\n",
       "    <tr>\n",
       "      <th>1</th>\n",
       "      <td>2018-01-02</td>\n",
       "      <td>236.887558</td>\n",
       "      <td>243.000061</td>\n",
       "      <td>235.837555</td>\n",
       "      <td>239.025055</td>\n",
       "      <td>233.760513</td>\n",
       "      <td>3832689</td>\n",
       "    </tr>\n",
       "    <tr>\n",
       "      <th>2</th>\n",
       "      <td>2018-01-03</td>\n",
       "      <td>240.300064</td>\n",
       "      <td>240.300064</td>\n",
       "      <td>231.562561</td>\n",
       "      <td>232.462555</td>\n",
       "      <td>227.342560</td>\n",
       "      <td>2930235</td>\n",
       "    </tr>\n",
       "    <tr>\n",
       "      <th>3</th>\n",
       "      <td>2018-01-04</td>\n",
       "      <td>232.575058</td>\n",
       "      <td>234.750061</td>\n",
       "      <td>230.587555</td>\n",
       "      <td>233.737564</td>\n",
       "      <td>228.589478</td>\n",
       "      <td>1952778</td>\n",
       "    </tr>\n",
       "    <tr>\n",
       "      <th>4</th>\n",
       "      <td>2018-01-05</td>\n",
       "      <td>234.750061</td>\n",
       "      <td>235.425064</td>\n",
       "      <td>230.775055</td>\n",
       "      <td>232.162552</td>\n",
       "      <td>227.049164</td>\n",
       "      <td>2150939</td>\n",
       "    </tr>\n",
       "  </tbody>\n",
       "</table>\n",
       "</div>"
      ],
      "text/plain": [
       "         Date        Open        High         Low       Close   Adj Close  \\\n",
       "0  2018-01-01  233.625061  240.000061  232.087555  237.412552  232.183533   \n",
       "1  2018-01-02  236.887558  243.000061  235.837555  239.025055  233.760513   \n",
       "2  2018-01-03  240.300064  240.300064  231.562561  232.462555  227.342560   \n",
       "3  2018-01-04  232.575058  234.750061  230.587555  233.737564  228.589478   \n",
       "4  2018-01-05  234.750061  235.425064  230.775055  232.162552  227.049164   \n",
       "\n",
       "    Volume  \n",
       "0  4467194  \n",
       "1  3832689  \n",
       "2  2930235  \n",
       "3  1952778  \n",
       "4  2150939  "
      ]
     },
     "execution_count": 2,
     "metadata": {},
     "output_type": "execute_result"
    }
   ],
   "source": [
    "stk=pd.read_csv(\"WIPRO.NS.csv\")\n",
    "stk.head()"
   ]
  },
  {
   "cell_type": "code",
   "execution_count": 3,
   "id": "c2b2955c",
   "metadata": {},
   "outputs": [
    {
     "data": {
      "text/html": [
       "<div>\n",
       "<style scoped>\n",
       "    .dataframe tbody tr th:only-of-type {\n",
       "        vertical-align: middle;\n",
       "    }\n",
       "\n",
       "    .dataframe tbody tr th {\n",
       "        vertical-align: top;\n",
       "    }\n",
       "\n",
       "    .dataframe thead th {\n",
       "        text-align: right;\n",
       "    }\n",
       "</style>\n",
       "<table border=\"1\" class=\"dataframe\">\n",
       "  <thead>\n",
       "    <tr style=\"text-align: right;\">\n",
       "      <th></th>\n",
       "      <th>Open</th>\n",
       "      <th>Close</th>\n",
       "    </tr>\n",
       "    <tr>\n",
       "      <th>Date</th>\n",
       "      <th></th>\n",
       "      <th></th>\n",
       "    </tr>\n",
       "  </thead>\n",
       "  <tbody>\n",
       "    <tr>\n",
       "      <th>2018-01-01</th>\n",
       "      <td>233.625061</td>\n",
       "      <td>237.412552</td>\n",
       "    </tr>\n",
       "    <tr>\n",
       "      <th>2018-01-02</th>\n",
       "      <td>236.887558</td>\n",
       "      <td>239.025055</td>\n",
       "    </tr>\n",
       "    <tr>\n",
       "      <th>2018-01-03</th>\n",
       "      <td>240.300064</td>\n",
       "      <td>232.462555</td>\n",
       "    </tr>\n",
       "    <tr>\n",
       "      <th>2018-01-04</th>\n",
       "      <td>232.575058</td>\n",
       "      <td>233.737564</td>\n",
       "    </tr>\n",
       "    <tr>\n",
       "      <th>2018-01-05</th>\n",
       "      <td>234.750061</td>\n",
       "      <td>232.162552</td>\n",
       "    </tr>\n",
       "  </tbody>\n",
       "</table>\n",
       "</div>"
      ],
      "text/plain": [
       "                  Open       Close\n",
       "Date                              \n",
       "2018-01-01  233.625061  237.412552\n",
       "2018-01-02  236.887558  239.025055\n",
       "2018-01-03  240.300064  232.462555\n",
       "2018-01-04  232.575058  233.737564\n",
       "2018-01-05  234.750061  232.162552"
      ]
     },
     "execution_count": 3,
     "metadata": {},
     "output_type": "execute_result"
    }
   ],
   "source": [
    "to_drop=['High','Low','Adj Close','Volume']\n",
    "stk.drop(columns=to_drop, inplace=True, axis=1)\n",
    "stk['Date'] = pd.to_datetime(stk['Date'])\n",
    "stk.set_index('Date',drop=True,inplace=True) \n",
    "stk.head()"
   ]
  },
  {
   "cell_type": "code",
   "execution_count": 4,
   "id": "4147aff1",
   "metadata": {},
   "outputs": [
    {
     "name": "stderr",
     "output_type": "stream",
     "text": [
      "C:\\Users\\Vinay\\AppData\\Local\\Temp\\ipykernel_16024\\1147303108.py:13: UserWarning: Matplotlib is currently using module://matplotlib_inline.backend_inline, which is a non-GUI backend, so cannot show the figure.\n",
      "  fig.show()\n"
     ]
    },
    {
     "data": {
      "image/png": "[encoded data removed]",
      "text/plain": [
       "<Figure size 1440x504 with 2 Axes>"
      ]
     },
     "metadata": {
      "needs_background": "light"
     },
     "output_type": "display_data"
    }
   ],
   "source": [
    "import matplotlib as mpl\n",
    "%matplotlib inline\n",
    "from matplotlib import pyplot as plt\n",
    "fig, ax= plt.subplots(2,1,figsize=(20,7))\n",
    "ax[0].plot(stk['Open'],label='Open',color='green')\n",
    "ax[0].set_xlabel('Date')\n",
    "ax[0].set_ylabel('Price')\n",
    "ax[0].legend()\n",
    "ax[1].plot(stk['Close'],label='Close',color='red')\n",
    "ax[1].set_xlabel('Date')\n",
    "ax[1].set_ylabel('Price')\n",
    "ax[1].legend()\n",
    "fig.show()"
   ]
  },
  {
   "cell_type": "code",
   "execution_count": 5,
   "id": "87f80e3d",
   "metadata": {},
   "outputs": [
    {
     "data": {
      "text/plain": [
       "1235"
      ]
     },
     "execution_count": 5,
     "metadata": {},
     "output_type": "execute_result"
    }
   ],
   "source": [
    "len(stk)"
   ]
  },
  {
   "cell_type": "code",
   "execution_count": 6,
   "id": "217fa23d",
   "metadata": {},
   "outputs": [],
   "source": [
    "from sklearn.preprocessing import MinMaxScaler\n",
    "MS=MinMaxScaler() \n",
    "stk[stk.columns]=MS.fit_transform(stk)"
   ]
  },
  {
   "cell_type": "code",
   "execution_count": 7,
   "id": "eb4d5d6e",
   "metadata": {},
   "outputs": [
    {
     "data": {
      "text/html": [
       "<div>\n",
       "<style scoped>\n",
       "    .dataframe tbody tr th:only-of-type {\n",
       "        vertical-align: middle;\n",
       "    }\n",
       "\n",
       "    .dataframe tbody tr th {\n",
       "        vertical-align: top;\n",
       "    }\n",
       "\n",
       "    .dataframe thead th {\n",
       "        text-align: right;\n",
       "    }\n",
       "</style>\n",
       "<table border=\"1\" class=\"dataframe\">\n",
       "  <thead>\n",
       "    <tr style=\"text-align: right;\">\n",
       "      <th></th>\n",
       "      <th>Open</th>\n",
       "      <th>Close</th>\n",
       "    </tr>\n",
       "    <tr>\n",
       "      <th>Date</th>\n",
       "      <th></th>\n",
       "      <th></th>\n",
       "    </tr>\n",
       "  </thead>\n",
       "  <tbody>\n",
       "    <tr>\n",
       "      <th>2018-01-01</th>\n",
       "      <td>0.126016</td>\n",
       "      <td>0.134244</td>\n",
       "    </tr>\n",
       "    <tr>\n",
       "      <th>2018-01-02</th>\n",
       "      <td>0.131846</td>\n",
       "      <td>0.137128</td>\n",
       "    </tr>\n",
       "    <tr>\n",
       "      <th>2018-01-03</th>\n",
       "      <td>0.137943</td>\n",
       "      <td>0.125391</td>\n",
       "    </tr>\n",
       "    <tr>\n",
       "      <th>2018-01-04</th>\n",
       "      <td>0.124140</td>\n",
       "      <td>0.127672</td>\n",
       "    </tr>\n",
       "    <tr>\n",
       "      <th>2018-01-05</th>\n",
       "      <td>0.128027</td>\n",
       "      <td>0.124855</td>\n",
       "    </tr>\n",
       "  </tbody>\n",
       "</table>\n",
       "</div>"
      ],
      "text/plain": [
       "                Open     Close\n",
       "Date                          \n",
       "2018-01-01  0.126016  0.134244\n",
       "2018-01-02  0.131846  0.137128\n",
       "2018-01-03  0.137943  0.125391\n",
       "2018-01-04  0.124140  0.127672\n",
       "2018-01-05  0.128027  0.124855"
      ]
     },
     "execution_count": 7,
     "metadata": {},
     "output_type": "execute_result"
    }
   ],
   "source": [
    "stk.head()"
   ]
  },
  {
   "cell_type": "code",
   "execution_count": 8,
   "id": "9783b19a",
   "metadata": {},
   "outputs": [
    {
     "data": {
      "text/plain": [
       "1235"
      ]
     },
     "execution_count": 8,
     "metadata": {},
     "output_type": "execute_result"
    }
   ],
   "source": [
    "len(stk)"
   ]
  },
  {
   "cell_type": "code",
   "execution_count": 9,
   "id": "279db7a5",
   "metadata": {},
   "outputs": [],
   "source": [
    "training_size=round(len(stk)*0.80)\n",
    "train_data=stk[:training_size]\n",
    "test_data=stk[training_size:]"
   ]
  },
  {
   "cell_type": "code",
   "execution_count": 10,
   "id": "2af760d3",
   "metadata": {},
   "outputs": [
    {
     "data": {
      "text/plain": [
       "988"
      ]
     },
     "execution_count": 10,
     "metadata": {},
     "output_type": "execute_result"
    }
   ],
   "source": [
    "len(train_data)"
   ]
  },
  {
   "cell_type": "code",
   "execution_count": 11,
   "id": "f7a3c29c",
   "metadata": {},
   "outputs": [
    {
     "data": {
      "text/plain": [
       "247"
      ]
     },
     "execution_count": 11,
     "metadata": {},
     "output_type": "execute_result"
    }
   ],
   "source": [
    "len(test_data)"
   ]
  },
  {
   "cell_type": "code",
   "execution_count": 12,
   "id": "ef6855e1",
   "metadata": {},
   "outputs": [],
   "source": [
    "import numpy as np\n",
    "import tensorflow as tf\n",
    "def create_sequence(dataset):\n",
    "  sequences = []\n",
    "  labels = []\n",
    "  start_idx = 0\n",
    "  for stop_idx in range(5,len(dataset)): \n",
    "    sequences.append(dataset.iloc[start_idx:stop_idx])\n",
    "    labels.append(dataset.iloc[stop_idx])\n",
    "    start_idx += 1\n",
    "  return (np.array(sequences),np.array(labels))"
   ]
  },
  {
   "cell_type": "code",
   "execution_count": 13,
   "id": "76733da3",
   "metadata": {},
   "outputs": [],
   "source": [
    "train_seq, train_label = create_sequence(train_data)\n",
    "test_seq, test_label = create_sequence(test_data)"
   ]
  },
  {
   "cell_type": "code",
   "execution_count": 14,
   "id": "f91287c4",
   "metadata": {},
   "outputs": [],
   "source": [
    "import tensorflow as tf\n",
    "train_seq=tf.convert_to_tensor(train_seq)\n",
    "train_label=tf.convert_to_tensor(train_label)\n",
    "test_seq=tf.convert_to_tensor(test_seq)\n",
    "test_label=tf.convert_to_tensor(test_label)"
   ]
  },
  {
   "cell_type": "code",
   "execution_count": 15,
   "id": "cd500641",
   "metadata": {},
   "outputs": [
    {
     "data": {
      "text/plain": [
       "983"
      ]
     },
     "execution_count": 15,
     "metadata": {},
     "output_type": "execute_result"
    }
   ],
   "source": [
    "len(train_seq)"
   ]
  },
  {
   "cell_type": "code",
   "execution_count": 16,
   "id": "cafab39f",
   "metadata": {},
   "outputs": [
    {
     "data": {
      "text/plain": [
       "242"
      ]
     },
     "execution_count": 16,
     "metadata": {},
     "output_type": "execute_result"
    }
   ],
   "source": [
    "len(test_seq)"
   ]
  },
  {
   "cell_type": "code",
   "execution_count": 17,
   "id": "c30448bf",
   "metadata": {},
   "outputs": [
    {
     "data": {
      "text/plain": [
       "5"
      ]
     },
     "execution_count": 17,
     "metadata": {},
     "output_type": "execute_result"
    }
   ],
   "source": [
    "train_seq.shape[1]"
   ]
  },
  {
   "cell_type": "code",
   "execution_count": 18,
   "id": "6c5ded45",
   "metadata": {},
   "outputs": [],
   "source": [
    "from keras.models import Sequential\n",
    "from keras.layers import Dense, Dropout, LSTM, Bidirectional"
   ]
  },
  {
   "cell_type": "code",
   "execution_count": 19,
   "id": "8acc4532",
   "metadata": {},
   "outputs": [
    {
     "name": "stdout",
     "output_type": "stream",
     "text": [
      "Model: \"sequential\"\n",
      "_________________________________________________________________\n",
      " Layer (type)                Output Shape              Param #   \n",
      "=================================================================\n",
      " lstm (LSTM)                 (None, 5, 50)             10600     \n",
      "                                                                 \n",
      " dropout (Dropout)           (None, 5, 50)             0         \n",
      "                                                                 \n",
      " lstm_1 (LSTM)               (None, 100)               60400     \n",
      "                                                                 \n",
      " dense (Dense)               (None, 2)                 202       \n",
      "                                                                 \n",
      "=================================================================\n",
      "Total params: 71,202\n",
      "Trainable params: 71,202\n",
      "Non-trainable params: 0\n",
      "_________________________________________________________________\n"
     ]
    }
   ],
   "source": [
    "model = Sequential()\n",
    "model.add(LSTM(units=50, return_sequences=True, input_shape = (train_seq.shape[1], train_seq.shape[2])))\n",
    "\n",
    "model.add(Dropout(0.1)) \n",
    "model.add(LSTM(units=100))\n",
    "\n",
    "model.add(Dense(2))\n",
    "\n",
    "model.compile(loss='mean_squared_error', optimizer='adam', metrics=['mean_absolute_error', 'accuracy'])\n",
    "\n",
    "model.summary()"
   ]
  },
  {
   "cell_type": "code",
   "execution_count": 20,
   "id": "48be3acd",
   "metadata": {},
   "outputs": [
    {
     "name": "stdout",
     "output_type": "stream",
     "text": [
      "Epoch 1/300\n",
      "31/31 [==============================] - 4s 27ms/step - loss: 0.0356 - mean_absolute_error: 0.1266 - accuracy: 0.4903 - val_loss: 0.0110 - val_mean_absolute_error: 0.0980 - val_accuracy: 0.4793\n",
      "Epoch 2/300\n",
      "31/31 [==============================] - 0s 6ms/step - loss: 0.0018 - mean_absolute_error: 0.0296 - accuracy: 0.4852 - val_loss: 0.0012 - val_mean_absolute_error: 0.0244 - val_accuracy: 0.5207\n",
      "Epoch 3/300\n",
      "31/31 [==============================] - 0s 6ms/step - loss: 6.1903e-04 - mean_absolute_error: 0.0168 - accuracy: 0.5412 - val_loss: 8.2125e-04 - val_mean_absolute_error: 0.0204 - val_accuracy: 0.5165\n",
      "Epoch 4/300\n",
      "31/31 [==============================] - 0s 6ms/step - loss: 5.3627e-04 - mean_absolute_error: 0.0155 - accuracy: 0.5320 - val_loss: 8.2287e-04 - val_mean_absolute_error: 0.0202 - val_accuracy: 0.3967\n",
      "Epoch 5/300\n",
      "31/31 [==============================] - 0s 6ms/step - loss: 5.5531e-04 - mean_absolute_error: 0.0158 - accuracy: 0.5178 - val_loss: 9.4819e-04 - val_mean_absolute_error: 0.0216 - val_accuracy: 0.4587\n",
      "Epoch 6/300\n",
      "31/31 [==============================] - 0s 6ms/step - loss: 4.9416e-04 - mean_absolute_error: 0.0150 - accuracy: 0.5463 - val_loss: 9.0580e-04 - val_mean_absolute_error: 0.0213 - val_accuracy: 0.4504\n",
      "Epoch 7/300\n",
      "31/31 [==============================] - 0s 7ms/step - loss: 4.9871e-04 - mean_absolute_error: 0.0147 - accuracy: 0.5605 - val_loss: 8.5973e-04 - val_mean_absolute_error: 0.0207 - val_accuracy: 0.4793\n",
      "Epoch 8/300\n",
      "31/31 [==============================] - 0s 6ms/step - loss: 4.8385e-04 - mean_absolute_error: 0.0146 - accuracy: 0.5677 - val_loss: 9.7048e-04 - val_mean_absolute_error: 0.0226 - val_accuracy: 0.4587\n",
      "Epoch 9/300\n",
      "31/31 [==============================] - 0s 6ms/step - loss: 4.7448e-04 - mean_absolute_error: 0.0145 - accuracy: 0.5463 - val_loss: 6.6790e-04 - val_mean_absolute_error: 0.0188 - val_accuracy: 0.4669\n",
      "Epoch 10/300\n",
      "31/31 [==============================] - 0s 6ms/step - loss: 4.7322e-04 - mean_absolute_error: 0.0144 - accuracy: 0.5331 - val_loss: 5.8765e-04 - val_mean_absolute_error: 0.0182 - val_accuracy: 0.4793\n",
      "Epoch 11/300\n",
      "31/31 [==============================] - 0s 6ms/step - loss: 4.9506e-04 - mean_absolute_error: 0.0150 - accuracy: 0.5422 - val_loss: 0.0015 - val_mean_absolute_error: 0.0300 - val_accuracy: 0.4793\n",
      "Epoch 12/300\n",
      "31/31 [==============================] - 0s 7ms/step - loss: 4.8377e-04 - mean_absolute_error: 0.0149 - accuracy: 0.5493 - val_loss: 5.8206e-04 - val_mean_absolute_error: 0.0180 - val_accuracy: 0.5165\n",
      "Epoch 13/300\n",
      "31/31 [==============================] - 0s 7ms/step - loss: 4.7431e-04 - mean_absolute_error: 0.0147 - accuracy: 0.5443 - val_loss: 7.0678e-04 - val_mean_absolute_error: 0.0193 - val_accuracy: 0.4793\n",
      "Epoch 14/300\n",
      "31/31 [==============================] - 0s 7ms/step - loss: 4.7179e-04 - mean_absolute_error: 0.0147 - accuracy: 0.5371 - val_loss: 9.1076e-04 - val_mean_absolute_error: 0.0218 - val_accuracy: 0.4793\n",
      "Epoch 15/300\n",
      "31/31 [==============================] - 0s 7ms/step - loss: 4.3603e-04 - mean_absolute_error: 0.0140 - accuracy: 0.5351 - val_loss: 0.0011 - val_mean_absolute_error: 0.0244 - val_accuracy: 0.4793\n",
      "Epoch 16/300\n",
      "31/31 [==============================] - 0s 7ms/step - loss: 4.4537e-04 - mean_absolute_error: 0.0143 - accuracy: 0.5493 - val_loss: 0.0011 - val_mean_absolute_error: 0.0253 - val_accuracy: 0.4876\n",
      "Epoch 17/300\n",
      "31/31 [==============================] - 0s 6ms/step - loss: 4.4743e-04 - mean_absolute_error: 0.0145 - accuracy: 0.4985 - val_loss: 0.0010 - val_mean_absolute_error: 0.0240 - val_accuracy: 0.4793\n",
      "Epoch 18/300\n",
      "31/31 [==============================] - 0s 6ms/step - loss: 4.8356e-04 - mean_absolute_error: 0.0152 - accuracy: 0.5259 - val_loss: 9.3261e-04 - val_mean_absolute_error: 0.0224 - val_accuracy: 0.4793\n",
      "Epoch 19/300\n",
      "31/31 [==============================] - 0s 6ms/step - loss: 5.0457e-04 - mean_absolute_error: 0.0149 - accuracy: 0.5504 - val_loss: 5.9635e-04 - val_mean_absolute_error: 0.0181 - val_accuracy: 0.4793\n",
      "Epoch 20/300\n",
      "31/31 [==============================] - 0s 7ms/step - loss: 4.4499e-04 - mean_absolute_error: 0.0143 - accuracy: 0.5351 - val_loss: 7.1010e-04 - val_mean_absolute_error: 0.0196 - val_accuracy: 0.4793\n",
      "Epoch 21/300\n",
      "31/31 [==============================] - 0s 6ms/step - loss: 4.3251e-04 - mean_absolute_error: 0.0141 - accuracy: 0.5249 - val_loss: 8.1412e-04 - val_mean_absolute_error: 0.0209 - val_accuracy: 0.4793\n",
      "Epoch 22/300\n",
      "31/31 [==============================] - 0s 6ms/step - loss: 4.0106e-04 - mean_absolute_error: 0.0136 - accuracy: 0.5392 - val_loss: 0.0010 - val_mean_absolute_error: 0.0242 - val_accuracy: 0.5165\n",
      "Epoch 23/300\n",
      "31/31 [==============================] - 0s 6ms/step - loss: 4.2852e-04 - mean_absolute_error: 0.0141 - accuracy: 0.5300 - val_loss: 6.4899e-04 - val_mean_absolute_error: 0.0188 - val_accuracy: 0.4793\n",
      "Epoch 24/300\n",
      "31/31 [==============================] - 0s 6ms/step - loss: 4.7966e-04 - mean_absolute_error: 0.0145 - accuracy: 0.5148 - val_loss: 5.5694e-04 - val_mean_absolute_error: 0.0177 - val_accuracy: 0.4793\n",
      "Epoch 25/300\n",
      "31/31 [==============================] - 0s 6ms/step - loss: 4.2893e-04 - mean_absolute_error: 0.0140 - accuracy: 0.5605 - val_loss: 8.8863e-04 - val_mean_absolute_error: 0.0222 - val_accuracy: 0.5207\n",
      "Epoch 26/300\n",
      "31/31 [==============================] - 0s 6ms/step - loss: 4.0374e-04 - mean_absolute_error: 0.0134 - accuracy: 0.5544 - val_loss: 9.0665e-04 - val_mean_absolute_error: 0.0223 - val_accuracy: 0.5083\n",
      "Epoch 27/300\n",
      "31/31 [==============================] - 0s 6ms/step - loss: 4.1001e-04 - mean_absolute_error: 0.0136 - accuracy: 0.5280 - val_loss: 7.9068e-04 - val_mean_absolute_error: 0.0203 - val_accuracy: 0.4793\n",
      "Epoch 28/300\n",
      "31/31 [==============================] - 0s 6ms/step - loss: 4.4411e-04 - mean_absolute_error: 0.0142 - accuracy: 0.5381 - val_loss: 6.3104e-04 - val_mean_absolute_error: 0.0183 - val_accuracy: 0.4793\n",
      "Epoch 29/300\n",
      "31/31 [==============================] - 0s 6ms/step - loss: 4.1828e-04 - mean_absolute_error: 0.0141 - accuracy: 0.5290 - val_loss: 0.0013 - val_mean_absolute_error: 0.0269 - val_accuracy: 0.4876\n",
      "Epoch 30/300\n",
      "31/31 [==============================] - 0s 6ms/step - loss: 4.3921e-04 - mean_absolute_error: 0.0141 - accuracy: 0.5493 - val_loss: 0.0013 - val_mean_absolute_error: 0.0273 - val_accuracy: 0.5372\n",
      "Epoch 31/300\n",
      "31/31 [==============================] - 0s 6ms/step - loss: 4.0324e-04 - mean_absolute_error: 0.0134 - accuracy: 0.5605 - val_loss: 8.2961e-04 - val_mean_absolute_error: 0.0211 - val_accuracy: 0.4793\n",
      "Epoch 32/300\n",
      "31/31 [==============================] - 0s 6ms/step - loss: 3.6132e-04 - mean_absolute_error: 0.0132 - accuracy: 0.5656 - val_loss: 0.0011 - val_mean_absolute_error: 0.0253 - val_accuracy: 0.4959\n",
      "Epoch 33/300\n",
      "31/31 [==============================] - 0s 6ms/step - loss: 4.1085e-04 - mean_absolute_error: 0.0138 - accuracy: 0.5280 - val_loss: 9.8296e-04 - val_mean_absolute_error: 0.0235 - val_accuracy: 0.4917\n",
      "Epoch 34/300\n",
      "31/31 [==============================] - 0s 6ms/step - loss: 4.3482e-04 - mean_absolute_error: 0.0141 - accuracy: 0.5483 - val_loss: 9.5637e-04 - val_mean_absolute_error: 0.0233 - val_accuracy: 0.5207\n",
      "Epoch 35/300\n",
      "31/31 [==============================] - 0s 6ms/step - loss: 3.9486e-04 - mean_absolute_error: 0.0135 - accuracy: 0.5493 - val_loss: 5.7963e-04 - val_mean_absolute_error: 0.0176 - val_accuracy: 0.4793\n",
      "Epoch 36/300\n",
      "31/31 [==============================] - 0s 6ms/step - loss: 4.3282e-04 - mean_absolute_error: 0.0140 - accuracy: 0.5097 - val_loss: 5.8318e-04 - val_mean_absolute_error: 0.0186 - val_accuracy: 0.4793\n",
      "Epoch 37/300\n",
      "31/31 [==============================] - 0s 6ms/step - loss: 4.7361e-04 - mean_absolute_error: 0.0148 - accuracy: 0.5351 - val_loss: 9.3024e-04 - val_mean_absolute_error: 0.0226 - val_accuracy: 0.4793\n",
      "Epoch 38/300\n",
      "31/31 [==============================] - 0s 6ms/step - loss: 4.7564e-04 - mean_absolute_error: 0.0152 - accuracy: 0.5463 - val_loss: 0.0015 - val_mean_absolute_error: 0.0305 - val_accuracy: 0.4876\n",
      "Epoch 39/300\n"
     ]
    },
    {
     "name": "stdout",
     "output_type": "stream",
     "text": [
      "31/31 [==============================] - 0s 6ms/step - loss: 4.0600e-04 - mean_absolute_error: 0.0139 - accuracy: 0.5320 - val_loss: 8.1889e-04 - val_mean_absolute_error: 0.0214 - val_accuracy: 0.5207\n",
      "Epoch 40/300\n",
      "31/31 [==============================] - 0s 6ms/step - loss: 3.8433e-04 - mean_absolute_error: 0.0130 - accuracy: 0.5748 - val_loss: 7.3527e-04 - val_mean_absolute_error: 0.0199 - val_accuracy: 0.4835\n",
      "Epoch 41/300\n",
      "31/31 [==============================] - 0s 6ms/step - loss: 3.6183e-04 - mean_absolute_error: 0.0129 - accuracy: 0.5066 - val_loss: 7.7397e-04 - val_mean_absolute_error: 0.0206 - val_accuracy: 0.5165\n",
      "Epoch 42/300\n",
      "31/31 [==============================] - 0s 6ms/step - loss: 3.5641e-04 - mean_absolute_error: 0.0128 - accuracy: 0.5473 - val_loss: 8.1295e-04 - val_mean_absolute_error: 0.0207 - val_accuracy: 0.4793\n",
      "Epoch 43/300\n",
      "31/31 [==============================] - 0s 6ms/step - loss: 3.8923e-04 - mean_absolute_error: 0.0130 - accuracy: 0.5270 - val_loss: 6.1894e-04 - val_mean_absolute_error: 0.0180 - val_accuracy: 0.4793\n",
      "Epoch 44/300\n",
      "31/31 [==============================] - 0s 6ms/step - loss: 4.7306e-04 - mean_absolute_error: 0.0148 - accuracy: 0.5036 - val_loss: 8.2950e-04 - val_mean_absolute_error: 0.0214 - val_accuracy: 0.5537\n",
      "Epoch 45/300\n",
      "31/31 [==============================] - 0s 6ms/step - loss: 3.9257e-04 - mean_absolute_error: 0.0133 - accuracy: 0.5371 - val_loss: 0.0014 - val_mean_absolute_error: 0.0293 - val_accuracy: 0.5083\n",
      "Epoch 46/300\n",
      "31/31 [==============================] - 0s 6ms/step - loss: 3.5397e-04 - mean_absolute_error: 0.0129 - accuracy: 0.5188 - val_loss: 5.3089e-04 - val_mean_absolute_error: 0.0170 - val_accuracy: 0.4793\n",
      "Epoch 47/300\n",
      "31/31 [==============================] - 0s 6ms/step - loss: 3.8311e-04 - mean_absolute_error: 0.0130 - accuracy: 0.5351 - val_loss: 8.6635e-04 - val_mean_absolute_error: 0.0221 - val_accuracy: 0.4587\n",
      "Epoch 48/300\n",
      "31/31 [==============================] - 0s 6ms/step - loss: 4.0075e-04 - mean_absolute_error: 0.0137 - accuracy: 0.5300 - val_loss: 8.4354e-04 - val_mean_absolute_error: 0.0217 - val_accuracy: 0.4917\n",
      "Epoch 49/300\n",
      "31/31 [==============================] - 0s 6ms/step - loss: 3.7865e-04 - mean_absolute_error: 0.0130 - accuracy: 0.5554 - val_loss: 7.3804e-04 - val_mean_absolute_error: 0.0200 - val_accuracy: 0.5207\n",
      "Epoch 50/300\n",
      "31/31 [==============================] - 0s 6ms/step - loss: 3.8699e-04 - mean_absolute_error: 0.0134 - accuracy: 0.5504 - val_loss: 8.3932e-04 - val_mean_absolute_error: 0.0219 - val_accuracy: 0.4959\n",
      "Epoch 51/300\n",
      "31/31 [==============================] - 0s 7ms/step - loss: 3.7452e-04 - mean_absolute_error: 0.0134 - accuracy: 0.5351 - val_loss: 0.0026 - val_mean_absolute_error: 0.0438 - val_accuracy: 0.5165\n",
      "Epoch 52/300\n",
      "31/31 [==============================] - 0s 7ms/step - loss: 4.2041e-04 - mean_absolute_error: 0.0143 - accuracy: 0.5636 - val_loss: 0.0015 - val_mean_absolute_error: 0.0306 - val_accuracy: 0.4793\n",
      "Epoch 53/300\n",
      "31/31 [==============================] - 0s 6ms/step - loss: 3.9415e-04 - mean_absolute_error: 0.0141 - accuracy: 0.5178 - val_loss: 6.7787e-04 - val_mean_absolute_error: 0.0194 - val_accuracy: 0.5083\n",
      "Epoch 54/300\n",
      "31/31 [==============================] - 0s 6ms/step - loss: 3.3171e-04 - mean_absolute_error: 0.0125 - accuracy: 0.5107 - val_loss: 4.8321e-04 - val_mean_absolute_error: 0.0164 - val_accuracy: 0.5496\n",
      "Epoch 55/300\n",
      "31/31 [==============================] - 0s 6ms/step - loss: 3.6023e-04 - mean_absolute_error: 0.0130 - accuracy: 0.5575 - val_loss: 6.4963e-04 - val_mean_absolute_error: 0.0182 - val_accuracy: 0.4793\n",
      "Epoch 56/300\n",
      "31/31 [==============================] - 0s 6ms/step - loss: 4.6428e-04 - mean_absolute_error: 0.0147 - accuracy: 0.5259 - val_loss: 0.0016 - val_mean_absolute_error: 0.0319 - val_accuracy: 0.5331\n",
      "Epoch 57/300\n",
      "31/31 [==============================] - 0s 6ms/step - loss: 4.6511e-04 - mean_absolute_error: 0.0143 - accuracy: 0.5727 - val_loss: 5.1043e-04 - val_mean_absolute_error: 0.0167 - val_accuracy: 0.5207\n",
      "Epoch 58/300\n",
      "31/31 [==============================] - 0s 6ms/step - loss: 3.5266e-04 - mean_absolute_error: 0.0129 - accuracy: 0.5412 - val_loss: 4.8487e-04 - val_mean_absolute_error: 0.0166 - val_accuracy: 0.5289\n",
      "Epoch 59/300\n",
      "31/31 [==============================] - 0s 6ms/step - loss: 3.9199e-04 - mean_absolute_error: 0.0136 - accuracy: 0.5320 - val_loss: 5.2013e-04 - val_mean_absolute_error: 0.0166 - val_accuracy: 0.5165\n",
      "Epoch 60/300\n",
      "31/31 [==============================] - 0s 6ms/step - loss: 3.3809e-04 - mean_absolute_error: 0.0124 - accuracy: 0.5331 - val_loss: 0.0015 - val_mean_absolute_error: 0.0303 - val_accuracy: 0.4793\n",
      "Epoch 61/300\n",
      "31/31 [==============================] - 0s 6ms/step - loss: 3.8734e-04 - mean_absolute_error: 0.0133 - accuracy: 0.5188 - val_loss: 0.0018 - val_mean_absolute_error: 0.0347 - val_accuracy: 0.5207\n",
      "Epoch 62/300\n",
      "31/31 [==============================] - 0s 6ms/step - loss: 3.2879e-04 - mean_absolute_error: 0.0123 - accuracy: 0.5381 - val_loss: 9.7532e-04 - val_mean_absolute_error: 0.0237 - val_accuracy: 0.5455\n",
      "Epoch 63/300\n",
      "31/31 [==============================] - 0s 5ms/step - loss: 3.3939e-04 - mean_absolute_error: 0.0125 - accuracy: 0.5687 - val_loss: 7.9464e-04 - val_mean_absolute_error: 0.0206 - val_accuracy: 0.4793\n",
      "Epoch 64/300\n",
      "31/31 [==============================] - 0s 6ms/step - loss: 3.8365e-04 - mean_absolute_error: 0.0132 - accuracy: 0.5341 - val_loss: 4.9872e-04 - val_mean_absolute_error: 0.0163 - val_accuracy: 0.4793\n",
      "Epoch 65/300\n",
      "31/31 [==============================] - 0s 6ms/step - loss: 4.6428e-04 - mean_absolute_error: 0.0146 - accuracy: 0.5402 - val_loss: 8.6009e-04 - val_mean_absolute_error: 0.0222 - val_accuracy: 0.5207\n",
      "Epoch 66/300\n",
      "31/31 [==============================] - 0s 6ms/step - loss: 3.3666e-04 - mean_absolute_error: 0.0125 - accuracy: 0.5148 - val_loss: 5.5285e-04 - val_mean_absolute_error: 0.0172 - val_accuracy: 0.4793\n",
      "Epoch 67/300\n",
      "31/31 [==============================] - 0s 6ms/step - loss: 4.0874e-04 - mean_absolute_error: 0.0136 - accuracy: 0.5148 - val_loss: 4.7898e-04 - val_mean_absolute_error: 0.0162 - val_accuracy: 0.4793\n",
      "Epoch 68/300\n",
      "31/31 [==============================] - 0s 6ms/step - loss: 3.7277e-04 - mean_absolute_error: 0.0129 - accuracy: 0.5463 - val_loss: 4.5300e-04 - val_mean_absolute_error: 0.0158 - val_accuracy: 0.5165\n",
      "Epoch 69/300\n",
      "31/31 [==============================] - 0s 6ms/step - loss: 3.6949e-04 - mean_absolute_error: 0.0128 - accuracy: 0.5290 - val_loss: 4.5830e-04 - val_mean_absolute_error: 0.0158 - val_accuracy: 0.4793\n",
      "Epoch 70/300\n",
      "31/31 [==============================] - 0s 6ms/step - loss: 3.0516e-04 - mean_absolute_error: 0.0121 - accuracy: 0.5422 - val_loss: 4.7764e-04 - val_mean_absolute_error: 0.0163 - val_accuracy: 0.4793\n",
      "Epoch 71/300\n",
      "31/31 [==============================] - 0s 6ms/step - loss: 3.1680e-04 - mean_absolute_error: 0.0119 - accuracy: 0.5351 - val_loss: 8.2877e-04 - val_mean_absolute_error: 0.0216 - val_accuracy: 0.4835\n",
      "Epoch 72/300\n",
      "31/31 [==============================] - 0s 6ms/step - loss: 3.4987e-04 - mean_absolute_error: 0.0130 - accuracy: 0.5575 - val_loss: 8.7248e-04 - val_mean_absolute_error: 0.0219 - val_accuracy: 0.4793\n",
      "Epoch 73/300\n",
      "31/31 [==============================] - 0s 6ms/step - loss: 3.3439e-04 - mean_absolute_error: 0.0126 - accuracy: 0.5463 - val_loss: 4.6045e-04 - val_mean_absolute_error: 0.0167 - val_accuracy: 0.4876\n",
      "Epoch 74/300\n",
      "31/31 [==============================] - 0s 6ms/step - loss: 3.3931e-04 - mean_absolute_error: 0.0126 - accuracy: 0.5524 - val_loss: 6.7488e-04 - val_mean_absolute_error: 0.0193 - val_accuracy: 0.5083\n",
      "Epoch 75/300\n",
      "31/31 [==============================] - 0s 6ms/step - loss: 3.5423e-04 - mean_absolute_error: 0.0129 - accuracy: 0.5463 - val_loss: 0.0012 - val_mean_absolute_error: 0.0275 - val_accuracy: 0.4793\n",
      "Epoch 76/300\n",
      "31/31 [==============================] - 0s 6ms/step - loss: 3.5452e-04 - mean_absolute_error: 0.0134 - accuracy: 0.5219 - val_loss: 8.8370e-04 - val_mean_absolute_error: 0.0224 - val_accuracy: 0.4793\n",
      "Epoch 77/300\n"
     ]
    },
    {
     "name": "stdout",
     "output_type": "stream",
     "text": [
      "31/31 [==============================] - 0s 6ms/step - loss: 3.4774e-04 - mean_absolute_error: 0.0128 - accuracy: 0.5259 - val_loss: 5.8719e-04 - val_mean_absolute_error: 0.0175 - val_accuracy: 0.4793\n",
      "Epoch 78/300\n",
      "31/31 [==============================] - 0s 6ms/step - loss: 2.9606e-04 - mean_absolute_error: 0.0116 - accuracy: 0.5036 - val_loss: 8.9826e-04 - val_mean_absolute_error: 0.0228 - val_accuracy: 0.4793\n",
      "Epoch 79/300\n",
      "31/31 [==============================] - 0s 6ms/step - loss: 3.8400e-04 - mean_absolute_error: 0.0133 - accuracy: 0.5381 - val_loss: 4.3836e-04 - val_mean_absolute_error: 0.0163 - val_accuracy: 0.5165\n",
      "Epoch 80/300\n",
      "31/31 [==============================] - 0s 5ms/step - loss: 3.8680e-04 - mean_absolute_error: 0.0135 - accuracy: 0.5270 - val_loss: 5.6751e-04 - val_mean_absolute_error: 0.0172 - val_accuracy: 0.4793\n",
      "Epoch 81/300\n",
      "31/31 [==============================] - 0s 6ms/step - loss: 3.7436e-04 - mean_absolute_error: 0.0130 - accuracy: 0.5575 - val_loss: 8.9399e-04 - val_mean_absolute_error: 0.0231 - val_accuracy: 0.5207\n",
      "Epoch 82/300\n",
      "31/31 [==============================] - 0s 6ms/step - loss: 2.8675e-04 - mean_absolute_error: 0.0114 - accuracy: 0.5605 - val_loss: 0.0013 - val_mean_absolute_error: 0.0278 - val_accuracy: 0.4793\n",
      "Epoch 83/300\n",
      "31/31 [==============================] - 0s 6ms/step - loss: 3.4272e-04 - mean_absolute_error: 0.0124 - accuracy: 0.4964 - val_loss: 5.2757e-04 - val_mean_absolute_error: 0.0166 - val_accuracy: 0.4793\n",
      "Epoch 84/300\n",
      "31/31 [==============================] - 0s 6ms/step - loss: 3.2379e-04 - mean_absolute_error: 0.0120 - accuracy: 0.5402 - val_loss: 4.6101e-04 - val_mean_absolute_error: 0.0157 - val_accuracy: 0.5248\n",
      "Epoch 85/300\n",
      "31/31 [==============================] - 0s 6ms/step - loss: 2.9353e-04 - mean_absolute_error: 0.0117 - accuracy: 0.5453 - val_loss: 0.0012 - val_mean_absolute_error: 0.0283 - val_accuracy: 0.4793\n",
      "Epoch 86/300\n",
      "31/31 [==============================] - 0s 6ms/step - loss: 3.6653e-04 - mean_absolute_error: 0.0133 - accuracy: 0.5229 - val_loss: 6.0343e-04 - val_mean_absolute_error: 0.0181 - val_accuracy: 0.5000\n",
      "Epoch 87/300\n",
      "31/31 [==============================] - 0s 6ms/step - loss: 2.9028e-04 - mean_absolute_error: 0.0117 - accuracy: 0.5280 - val_loss: 4.5852e-04 - val_mean_absolute_error: 0.0156 - val_accuracy: 0.5124\n",
      "Epoch 88/300\n",
      "31/31 [==============================] - 0s 6ms/step - loss: 3.1629e-04 - mean_absolute_error: 0.0123 - accuracy: 0.5168 - val_loss: 0.0016 - val_mean_absolute_error: 0.0338 - val_accuracy: 0.4793\n",
      "Epoch 89/300\n",
      "31/31 [==============================] - 0s 6ms/step - loss: 3.8504e-04 - mean_absolute_error: 0.0134 - accuracy: 0.5320 - val_loss: 6.0048e-04 - val_mean_absolute_error: 0.0205 - val_accuracy: 0.4793\n",
      "Epoch 90/300\n",
      "31/31 [==============================] - 0s 6ms/step - loss: 3.4786e-04 - mean_absolute_error: 0.0127 - accuracy: 0.5463 - val_loss: 4.7642e-04 - val_mean_absolute_error: 0.0160 - val_accuracy: 0.4793\n",
      "Epoch 91/300\n",
      "31/31 [==============================] - 0s 6ms/step - loss: 2.9767e-04 - mean_absolute_error: 0.0118 - accuracy: 0.5585 - val_loss: 4.5056e-04 - val_mean_absolute_error: 0.0153 - val_accuracy: 0.4793\n",
      "Epoch 92/300\n",
      "31/31 [==============================] - 0s 6ms/step - loss: 3.5471e-04 - mean_absolute_error: 0.0127 - accuracy: 0.5432 - val_loss: 7.0952e-04 - val_mean_absolute_error: 0.0194 - val_accuracy: 0.4793\n",
      "Epoch 93/300\n",
      "31/31 [==============================] - 0s 6ms/step - loss: 2.8387e-04 - mean_absolute_error: 0.0114 - accuracy: 0.5209 - val_loss: 3.9476e-04 - val_mean_absolute_error: 0.0146 - val_accuracy: 0.5207\n",
      "Epoch 94/300\n",
      "31/31 [==============================] - 0s 6ms/step - loss: 3.4286e-04 - mean_absolute_error: 0.0123 - accuracy: 0.5463 - val_loss: 0.0010 - val_mean_absolute_error: 0.0252 - val_accuracy: 0.5207\n",
      "Epoch 95/300\n",
      "31/31 [==============================] - 0s 6ms/step - loss: 2.9531e-04 - mean_absolute_error: 0.0117 - accuracy: 0.5493 - val_loss: 3.7439e-04 - val_mean_absolute_error: 0.0149 - val_accuracy: 0.5331\n",
      "Epoch 96/300\n",
      "31/31 [==============================] - 0s 6ms/step - loss: 2.6626e-04 - mean_absolute_error: 0.0112 - accuracy: 0.4985 - val_loss: 4.0010e-04 - val_mean_absolute_error: 0.0152 - val_accuracy: 0.4793\n",
      "Epoch 97/300\n",
      "31/31 [==============================] - 0s 6ms/step - loss: 3.2133e-04 - mean_absolute_error: 0.0123 - accuracy: 0.5412 - val_loss: 3.5971e-04 - val_mean_absolute_error: 0.0141 - val_accuracy: 0.5041\n",
      "Epoch 98/300\n",
      "31/31 [==============================] - 0s 6ms/step - loss: 3.4672e-04 - mean_absolute_error: 0.0125 - accuracy: 0.5402 - val_loss: 5.2124e-04 - val_mean_absolute_error: 0.0169 - val_accuracy: 0.5207\n",
      "Epoch 99/300\n",
      "31/31 [==============================] - 0s 6ms/step - loss: 3.0787e-04 - mean_absolute_error: 0.0120 - accuracy: 0.5331 - val_loss: 8.1757e-04 - val_mean_absolute_error: 0.0216 - val_accuracy: 0.5165\n",
      "Epoch 100/300\n",
      "31/31 [==============================] - 0s 6ms/step - loss: 2.9302e-04 - mean_absolute_error: 0.0116 - accuracy: 0.5575 - val_loss: 6.5230e-04 - val_mean_absolute_error: 0.0190 - val_accuracy: 0.4793\n",
      "Epoch 101/300\n",
      "31/31 [==============================] - 0s 6ms/step - loss: 3.1401e-04 - mean_absolute_error: 0.0119 - accuracy: 0.5331 - val_loss: 3.9186e-04 - val_mean_absolute_error: 0.0143 - val_accuracy: 0.4793\n",
      "Epoch 102/300\n",
      "31/31 [==============================] - 0s 6ms/step - loss: 2.6528e-04 - mean_absolute_error: 0.0114 - accuracy: 0.5331 - val_loss: 0.0014 - val_mean_absolute_error: 0.0316 - val_accuracy: 0.4793\n",
      "Epoch 103/300\n",
      "31/31 [==============================] - 0s 6ms/step - loss: 3.0992e-04 - mean_absolute_error: 0.0120 - accuracy: 0.5249 - val_loss: 4.6641e-04 - val_mean_absolute_error: 0.0155 - val_accuracy: 0.4793\n",
      "Epoch 104/300\n",
      "31/31 [==============================] - 0s 6ms/step - loss: 2.9018e-04 - mean_absolute_error: 0.0118 - accuracy: 0.5453 - val_loss: 3.8469e-04 - val_mean_absolute_error: 0.0142 - val_accuracy: 0.5041\n",
      "Epoch 105/300\n",
      "31/31 [==============================] - 0s 6ms/step - loss: 2.4782e-04 - mean_absolute_error: 0.0106 - accuracy: 0.5514 - val_loss: 5.5869e-04 - val_mean_absolute_error: 0.0177 - val_accuracy: 0.5207\n",
      "Epoch 106/300\n",
      "31/31 [==============================] - 0s 6ms/step - loss: 2.4754e-04 - mean_absolute_error: 0.0106 - accuracy: 0.5158 - val_loss: 6.0953e-04 - val_mean_absolute_error: 0.0178 - val_accuracy: 0.4793\n",
      "Epoch 107/300\n",
      "31/31 [==============================] - 0s 6ms/step - loss: 2.5836e-04 - mean_absolute_error: 0.0109 - accuracy: 0.5107 - val_loss: 4.1378e-04 - val_mean_absolute_error: 0.0146 - val_accuracy: 0.4793\n",
      "Epoch 108/300\n",
      "31/31 [==============================] - 0s 6ms/step - loss: 2.7236e-04 - mean_absolute_error: 0.0110 - accuracy: 0.5249 - val_loss: 7.5933e-04 - val_mean_absolute_error: 0.0214 - val_accuracy: 0.5455\n",
      "Epoch 109/300\n",
      "31/31 [==============================] - 0s 6ms/step - loss: 2.8402e-04 - mean_absolute_error: 0.0112 - accuracy: 0.5422 - val_loss: 8.8836e-04 - val_mean_absolute_error: 0.0234 - val_accuracy: 0.4793\n",
      "Epoch 110/300\n",
      "31/31 [==============================] - 0s 6ms/step - loss: 2.9272e-04 - mean_absolute_error: 0.0118 - accuracy: 0.5493 - val_loss: 4.0189e-04 - val_mean_absolute_error: 0.0160 - val_accuracy: 0.4959\n",
      "Epoch 111/300\n",
      "31/31 [==============================] - 0s 6ms/step - loss: 3.0888e-04 - mean_absolute_error: 0.0120 - accuracy: 0.5626 - val_loss: 6.0649e-04 - val_mean_absolute_error: 0.0183 - val_accuracy: 0.4793\n",
      "Epoch 112/300\n",
      "31/31 [==============================] - 0s 6ms/step - loss: 2.7027e-04 - mean_absolute_error: 0.0109 - accuracy: 0.5483 - val_loss: 4.1673e-04 - val_mean_absolute_error: 0.0146 - val_accuracy: 0.4793\n",
      "Epoch 113/300\n",
      "31/31 [==============================] - 0s 7ms/step - loss: 2.7670e-04 - mean_absolute_error: 0.0112 - accuracy: 0.5534 - val_loss: 4.2854e-04 - val_mean_absolute_error: 0.0152 - val_accuracy: 0.5207\n",
      "Epoch 114/300\n",
      "31/31 [==============================] - 0s 7ms/step - loss: 3.7333e-04 - mean_absolute_error: 0.0130 - accuracy: 0.4944 - val_loss: 3.8109e-04 - val_mean_absolute_error: 0.0142 - val_accuracy: 0.4793\n",
      "Epoch 115/300\n"
     ]
    },
    {
     "name": "stdout",
     "output_type": "stream",
     "text": [
      "31/31 [==============================] - 0s 7ms/step - loss: 2.5265e-04 - mean_absolute_error: 0.0106 - accuracy: 0.5432 - val_loss: 5.6975e-04 - val_mean_absolute_error: 0.0177 - val_accuracy: 0.4793\n",
      "Epoch 116/300\n",
      "31/31 [==============================] - 0s 7ms/step - loss: 2.4798e-04 - mean_absolute_error: 0.0106 - accuracy: 0.5381 - val_loss: 5.7141e-04 - val_mean_absolute_error: 0.0179 - val_accuracy: 0.4793\n",
      "Epoch 117/300\n",
      "31/31 [==============================] - 0s 7ms/step - loss: 2.3386e-04 - mean_absolute_error: 0.0105 - accuracy: 0.5493 - val_loss: 4.9568e-04 - val_mean_absolute_error: 0.0167 - val_accuracy: 0.5207\n",
      "Epoch 118/300\n",
      "31/31 [==============================] - 0s 6ms/step - loss: 3.1788e-04 - mean_absolute_error: 0.0121 - accuracy: 0.5331 - val_loss: 5.9846e-04 - val_mean_absolute_error: 0.0181 - val_accuracy: 0.4876\n",
      "Epoch 119/300\n",
      "31/31 [==============================] - 0s 5ms/step - loss: 2.2514e-04 - mean_absolute_error: 0.0102 - accuracy: 0.5371 - val_loss: 4.4364e-04 - val_mean_absolute_error: 0.0155 - val_accuracy: 0.5537\n",
      "Epoch 120/300\n",
      "31/31 [==============================] - 0s 5ms/step - loss: 2.6010e-04 - mean_absolute_error: 0.0106 - accuracy: 0.5544 - val_loss: 9.2109e-04 - val_mean_absolute_error: 0.0245 - val_accuracy: 0.5248\n",
      "Epoch 121/300\n",
      "31/31 [==============================] - 0s 6ms/step - loss: 2.5233e-04 - mean_absolute_error: 0.0109 - accuracy: 0.5473 - val_loss: 5.5871e-04 - val_mean_absolute_error: 0.0177 - val_accuracy: 0.4793\n",
      "Epoch 122/300\n",
      "31/31 [==============================] - 0s 6ms/step - loss: 2.5244e-04 - mean_absolute_error: 0.0106 - accuracy: 0.5229 - val_loss: 4.4762e-04 - val_mean_absolute_error: 0.0150 - val_accuracy: 0.4793\n",
      "Epoch 123/300\n",
      "31/31 [==============================] - 0s 5ms/step - loss: 2.6870e-04 - mean_absolute_error: 0.0113 - accuracy: 0.5280 - val_loss: 0.0012 - val_mean_absolute_error: 0.0282 - val_accuracy: 0.4793\n",
      "Epoch 124/300\n",
      "31/31 [==============================] - 0s 5ms/step - loss: 2.5898e-04 - mean_absolute_error: 0.0111 - accuracy: 0.5198 - val_loss: 4.5728e-04 - val_mean_absolute_error: 0.0156 - val_accuracy: 0.4793\n",
      "Epoch 125/300\n",
      "31/31 [==============================] - 0s 5ms/step - loss: 2.4583e-04 - mean_absolute_error: 0.0108 - accuracy: 0.5422 - val_loss: 4.1116e-04 - val_mean_absolute_error: 0.0148 - val_accuracy: 0.4793\n",
      "Epoch 126/300\n",
      "31/31 [==============================] - 0s 6ms/step - loss: 2.7123e-04 - mean_absolute_error: 0.0112 - accuracy: 0.5432 - val_loss: 5.1870e-04 - val_mean_absolute_error: 0.0173 - val_accuracy: 0.5041\n",
      "Epoch 127/300\n",
      "31/31 [==============================] - 0s 6ms/step - loss: 2.6785e-04 - mean_absolute_error: 0.0111 - accuracy: 0.5209 - val_loss: 2.8197e-04 - val_mean_absolute_error: 0.0126 - val_accuracy: 0.5207\n",
      "Epoch 128/300\n",
      "31/31 [==============================] - 0s 7ms/step - loss: 2.6220e-04 - mean_absolute_error: 0.0112 - accuracy: 0.5219 - val_loss: 3.5426e-04 - val_mean_absolute_error: 0.0138 - val_accuracy: 0.5207\n",
      "Epoch 129/300\n",
      "31/31 [==============================] - 0s 6ms/step - loss: 2.6617e-04 - mean_absolute_error: 0.0112 - accuracy: 0.5137 - val_loss: 9.3466e-04 - val_mean_absolute_error: 0.0242 - val_accuracy: 0.4793\n",
      "Epoch 130/300\n",
      "31/31 [==============================] - 0s 6ms/step - loss: 3.1535e-04 - mean_absolute_error: 0.0120 - accuracy: 0.5524 - val_loss: 4.6610e-04 - val_mean_absolute_error: 0.0179 - val_accuracy: 0.4793\n",
      "Epoch 131/300\n",
      "31/31 [==============================] - 0s 7ms/step - loss: 3.0245e-04 - mean_absolute_error: 0.0119 - accuracy: 0.5341 - val_loss: 3.0337e-04 - val_mean_absolute_error: 0.0131 - val_accuracy: 0.4793\n",
      "Epoch 132/300\n",
      "31/31 [==============================] - 0s 6ms/step - loss: 2.4017e-04 - mean_absolute_error: 0.0105 - accuracy: 0.5351 - val_loss: 4.7569e-04 - val_mean_absolute_error: 0.0162 - val_accuracy: 0.5537\n",
      "Epoch 133/300\n",
      "31/31 [==============================] - 0s 6ms/step - loss: 2.4486e-04 - mean_absolute_error: 0.0103 - accuracy: 0.5310 - val_loss: 2.7327e-04 - val_mean_absolute_error: 0.0123 - val_accuracy: 0.4917\n",
      "Epoch 134/300\n",
      "31/31 [==============================] - 0s 6ms/step - loss: 2.2823e-04 - mean_absolute_error: 0.0103 - accuracy: 0.5544 - val_loss: 3.8172e-04 - val_mean_absolute_error: 0.0142 - val_accuracy: 0.4711\n",
      "Epoch 135/300\n",
      "31/31 [==============================] - 0s 6ms/step - loss: 2.5353e-04 - mean_absolute_error: 0.0107 - accuracy: 0.5473 - val_loss: 4.7310e-04 - val_mean_absolute_error: 0.0160 - val_accuracy: 0.4793\n",
      "Epoch 136/300\n",
      "31/31 [==============================] - 0s 6ms/step - loss: 3.0650e-04 - mean_absolute_error: 0.0118 - accuracy: 0.5473 - val_loss: 2.8382e-04 - val_mean_absolute_error: 0.0125 - val_accuracy: 0.5207\n",
      "Epoch 137/300\n",
      "31/31 [==============================] - 0s 6ms/step - loss: 2.2402e-04 - mean_absolute_error: 0.0104 - accuracy: 0.5402 - val_loss: 3.4252e-04 - val_mean_absolute_error: 0.0132 - val_accuracy: 0.4793\n",
      "Epoch 138/300\n",
      "31/31 [==============================] - 0s 6ms/step - loss: 2.1752e-04 - mean_absolute_error: 0.0098 - accuracy: 0.5504 - val_loss: 5.4853e-04 - val_mean_absolute_error: 0.0174 - val_accuracy: 0.4793\n",
      "Epoch 139/300\n",
      "31/31 [==============================] - 0s 6ms/step - loss: 2.6149e-04 - mean_absolute_error: 0.0108 - accuracy: 0.5148 - val_loss: 2.7155e-04 - val_mean_absolute_error: 0.0121 - val_accuracy: 0.5207\n",
      "Epoch 140/300\n",
      "31/31 [==============================] - 0s 6ms/step - loss: 2.4718e-04 - mean_absolute_error: 0.0107 - accuracy: 0.5626 - val_loss: 2.6499e-04 - val_mean_absolute_error: 0.0123 - val_accuracy: 0.4793\n",
      "Epoch 141/300\n",
      "31/31 [==============================] - 0s 6ms/step - loss: 2.4494e-04 - mean_absolute_error: 0.0107 - accuracy: 0.5626 - val_loss: 5.3705e-04 - val_mean_absolute_error: 0.0169 - val_accuracy: 0.4793\n",
      "Epoch 142/300\n",
      "31/31 [==============================] - 0s 6ms/step - loss: 2.4753e-04 - mean_absolute_error: 0.0107 - accuracy: 0.5483 - val_loss: 5.7512e-04 - val_mean_absolute_error: 0.0179 - val_accuracy: 0.4793\n",
      "Epoch 143/300\n",
      "31/31 [==============================] - 0s 6ms/step - loss: 2.0186e-04 - mean_absolute_error: 0.0097 - accuracy: 0.4903 - val_loss: 5.1996e-04 - val_mean_absolute_error: 0.0174 - val_accuracy: 0.5207\n",
      "Epoch 144/300\n",
      "31/31 [==============================] - 0s 6ms/step - loss: 2.1221e-04 - mean_absolute_error: 0.0098 - accuracy: 0.5168 - val_loss: 3.4673e-04 - val_mean_absolute_error: 0.0135 - val_accuracy: 0.4793\n",
      "Epoch 145/300\n",
      "31/31 [==============================] - 0s 6ms/step - loss: 2.0748e-04 - mean_absolute_error: 0.0097 - accuracy: 0.5544 - val_loss: 2.6558e-04 - val_mean_absolute_error: 0.0118 - val_accuracy: 0.4793\n",
      "Epoch 146/300\n",
      "31/31 [==============================] - 0s 6ms/step - loss: 2.0540e-04 - mean_absolute_error: 0.0096 - accuracy: 0.5443 - val_loss: 2.8902e-04 - val_mean_absolute_error: 0.0130 - val_accuracy: 0.4793\n",
      "Epoch 147/300\n",
      "31/31 [==============================] - 0s 6ms/step - loss: 2.2631e-04 - mean_absolute_error: 0.0101 - accuracy: 0.5534 - val_loss: 9.6006e-04 - val_mean_absolute_error: 0.0256 - val_accuracy: 0.4793\n",
      "Epoch 148/300\n",
      "31/31 [==============================] - 0s 6ms/step - loss: 2.3800e-04 - mean_absolute_error: 0.0102 - accuracy: 0.5361 - val_loss: 2.5471e-04 - val_mean_absolute_error: 0.0119 - val_accuracy: 0.4793\n",
      "Epoch 149/300\n",
      "31/31 [==============================] - 0s 6ms/step - loss: 2.1838e-04 - mean_absolute_error: 0.0096 - accuracy: 0.5595 - val_loss: 7.0746e-04 - val_mean_absolute_error: 0.0207 - val_accuracy: 0.4793\n",
      "Epoch 150/300\n",
      "31/31 [==============================] - 0s 6ms/step - loss: 2.2689e-04 - mean_absolute_error: 0.0102 - accuracy: 0.5534 - val_loss: 3.2547e-04 - val_mean_absolute_error: 0.0145 - val_accuracy: 0.4959\n",
      "Epoch 151/300\n",
      "31/31 [==============================] - 0s 6ms/step - loss: 2.2855e-04 - mean_absolute_error: 0.0102 - accuracy: 0.5544 - val_loss: 3.4486e-04 - val_mean_absolute_error: 0.0136 - val_accuracy: 0.4793\n",
      "Epoch 152/300\n",
      "31/31 [==============================] - 0s 6ms/step - loss: 1.9107e-04 - mean_absolute_error: 0.0096 - accuracy: 0.5463 - val_loss: 4.9679e-04 - val_mean_absolute_error: 0.0169 - val_accuracy: 0.4793\n",
      "Epoch 153/300\n"
     ]
    },
    {
     "name": "stdout",
     "output_type": "stream",
     "text": [
      "31/31 [==============================] - 0s 6ms/step - loss: 1.9469e-04 - mean_absolute_error: 0.0093 - accuracy: 0.5361 - val_loss: 3.6617e-04 - val_mean_absolute_error: 0.0145 - val_accuracy: 0.5207\n",
      "Epoch 154/300\n",
      "31/31 [==============================] - 0s 6ms/step - loss: 2.0129e-04 - mean_absolute_error: 0.0097 - accuracy: 0.4863 - val_loss: 3.9260e-04 - val_mean_absolute_error: 0.0150 - val_accuracy: 0.5248\n",
      "Epoch 155/300\n",
      "31/31 [==============================] - 0s 6ms/step - loss: 2.4275e-04 - mean_absolute_error: 0.0107 - accuracy: 0.5463 - val_loss: 2.4335e-04 - val_mean_absolute_error: 0.0116 - val_accuracy: 0.5207\n",
      "Epoch 156/300\n",
      "31/31 [==============================] - 0s 6ms/step - loss: 2.7096e-04 - mean_absolute_error: 0.0116 - accuracy: 0.5117 - val_loss: 4.5376e-04 - val_mean_absolute_error: 0.0163 - val_accuracy: 0.5289\n",
      "Epoch 157/300\n",
      "31/31 [==============================] - 0s 6ms/step - loss: 1.9655e-04 - mean_absolute_error: 0.0095 - accuracy: 0.5524 - val_loss: 5.9265e-04 - val_mean_absolute_error: 0.0188 - val_accuracy: 0.4793\n",
      "Epoch 158/300\n",
      "31/31 [==============================] - 0s 6ms/step - loss: 1.9291e-04 - mean_absolute_error: 0.0094 - accuracy: 0.5422 - val_loss: 6.7680e-04 - val_mean_absolute_error: 0.0205 - val_accuracy: 0.4793\n",
      "Epoch 159/300\n",
      "31/31 [==============================] - 0s 6ms/step - loss: 2.3364e-04 - mean_absolute_error: 0.0102 - accuracy: 0.5402 - val_loss: 2.4901e-04 - val_mean_absolute_error: 0.0114 - val_accuracy: 0.4793\n",
      "Epoch 160/300\n",
      "31/31 [==============================] - 0s 6ms/step - loss: 2.0778e-04 - mean_absolute_error: 0.0098 - accuracy: 0.5198 - val_loss: 2.5772e-04 - val_mean_absolute_error: 0.0123 - val_accuracy: 0.5207\n",
      "Epoch 161/300\n",
      "31/31 [==============================] - 0s 6ms/step - loss: 2.2617e-04 - mean_absolute_error: 0.0099 - accuracy: 0.5178 - val_loss: 2.3006e-04 - val_mean_absolute_error: 0.0112 - val_accuracy: 0.4917\n",
      "Epoch 162/300\n",
      "31/31 [==============================] - 0s 6ms/step - loss: 2.4682e-04 - mean_absolute_error: 0.0105 - accuracy: 0.5727 - val_loss: 5.7244e-04 - val_mean_absolute_error: 0.0185 - val_accuracy: 0.4793\n",
      "Epoch 163/300\n",
      "31/31 [==============================] - 0s 6ms/step - loss: 2.0014e-04 - mean_absolute_error: 0.0096 - accuracy: 0.5188 - val_loss: 2.2506e-04 - val_mean_absolute_error: 0.0111 - val_accuracy: 0.4835\n",
      "Epoch 164/300\n",
      "31/31 [==============================] - 0s 7ms/step - loss: 1.9836e-04 - mean_absolute_error: 0.0094 - accuracy: 0.5554 - val_loss: 5.5255e-04 - val_mean_absolute_error: 0.0184 - val_accuracy: 0.5207\n",
      "Epoch 165/300\n",
      "31/31 [==============================] - 0s 6ms/step - loss: 1.8236e-04 - mean_absolute_error: 0.0091 - accuracy: 0.5554 - val_loss: 6.9845e-04 - val_mean_absolute_error: 0.0212 - val_accuracy: 0.5207\n",
      "Epoch 166/300\n",
      "31/31 [==============================] - 0s 6ms/step - loss: 2.1316e-04 - mean_absolute_error: 0.0100 - accuracy: 0.5534 - val_loss: 2.4482e-04 - val_mean_absolute_error: 0.0119 - val_accuracy: 0.5207\n",
      "Epoch 167/300\n",
      "31/31 [==============================] - 0s 6ms/step - loss: 1.8942e-04 - mean_absolute_error: 0.0093 - accuracy: 0.5239 - val_loss: 4.2431e-04 - val_mean_absolute_error: 0.0155 - val_accuracy: 0.5207\n",
      "Epoch 168/300\n",
      "31/31 [==============================] - 0s 6ms/step - loss: 2.0382e-04 - mean_absolute_error: 0.0099 - accuracy: 0.5025 - val_loss: 2.6629e-04 - val_mean_absolute_error: 0.0118 - val_accuracy: 0.4793\n",
      "Epoch 169/300\n",
      "31/31 [==============================] - 0s 6ms/step - loss: 2.2796e-04 - mean_absolute_error: 0.0106 - accuracy: 0.5056 - val_loss: 2.4315e-04 - val_mean_absolute_error: 0.0112 - val_accuracy: 0.4793\n",
      "Epoch 170/300\n",
      "31/31 [==============================] - 0s 6ms/step - loss: 2.0415e-04 - mean_absolute_error: 0.0096 - accuracy: 0.5270 - val_loss: 6.9316e-04 - val_mean_absolute_error: 0.0215 - val_accuracy: 0.5207\n",
      "Epoch 171/300\n",
      "31/31 [==============================] - 0s 6ms/step - loss: 1.7356e-04 - mean_absolute_error: 0.0090 - accuracy: 0.5280 - val_loss: 6.6672e-04 - val_mean_absolute_error: 0.0212 - val_accuracy: 0.5207\n",
      "Epoch 172/300\n",
      "31/31 [==============================] - 0s 6ms/step - loss: 2.3533e-04 - mean_absolute_error: 0.0104 - accuracy: 0.5117 - val_loss: 2.3963e-04 - val_mean_absolute_error: 0.0120 - val_accuracy: 0.5537\n",
      "Epoch 173/300\n",
      "31/31 [==============================] - 0s 7ms/step - loss: 2.1978e-04 - mean_absolute_error: 0.0099 - accuracy: 0.5575 - val_loss: 9.8144e-04 - val_mean_absolute_error: 0.0265 - val_accuracy: 0.4793\n",
      "Epoch 174/300\n",
      "31/31 [==============================] - 0s 6ms/step - loss: 2.0434e-04 - mean_absolute_error: 0.0096 - accuracy: 0.5504 - val_loss: 2.5134e-04 - val_mean_absolute_error: 0.0113 - val_accuracy: 0.4793\n",
      "Epoch 175/300\n",
      "31/31 [==============================] - 0s 6ms/step - loss: 1.8941e-04 - mean_absolute_error: 0.0094 - accuracy: 0.5341 - val_loss: 5.3307e-04 - val_mean_absolute_error: 0.0181 - val_accuracy: 0.5207\n",
      "Epoch 176/300\n",
      "31/31 [==============================] - 0s 6ms/step - loss: 1.7310e-04 - mean_absolute_error: 0.0089 - accuracy: 0.5168 - val_loss: 2.9714e-04 - val_mean_absolute_error: 0.0128 - val_accuracy: 0.5207\n",
      "Epoch 177/300\n",
      "31/31 [==============================] - 0s 6ms/step - loss: 1.7576e-04 - mean_absolute_error: 0.0089 - accuracy: 0.5310 - val_loss: 2.0857e-04 - val_mean_absolute_error: 0.0107 - val_accuracy: 0.5207\n",
      "Epoch 178/300\n",
      "31/31 [==============================] - 0s 6ms/step - loss: 2.0234e-04 - mean_absolute_error: 0.0093 - accuracy: 0.5534 - val_loss: 2.8669e-04 - val_mean_absolute_error: 0.0124 - val_accuracy: 0.5165\n",
      "Epoch 179/300\n",
      "31/31 [==============================] - 0s 6ms/step - loss: 1.8421e-04 - mean_absolute_error: 0.0092 - accuracy: 0.5463 - val_loss: 3.8007e-04 - val_mean_absolute_error: 0.0147 - val_accuracy: 0.5248\n",
      "Epoch 180/300\n",
      "31/31 [==============================] - 0s 6ms/step - loss: 1.9202e-04 - mean_absolute_error: 0.0097 - accuracy: 0.5086 - val_loss: 2.0453e-04 - val_mean_absolute_error: 0.0106 - val_accuracy: 0.5124\n",
      "Epoch 181/300\n",
      "31/31 [==============================] - 0s 6ms/step - loss: 1.6134e-04 - mean_absolute_error: 0.0084 - accuracy: 0.5331 - val_loss: 2.0321e-04 - val_mean_absolute_error: 0.0104 - val_accuracy: 0.5207\n",
      "Epoch 182/300\n",
      "31/31 [==============================] - 0s 6ms/step - loss: 2.0122e-04 - mean_absolute_error: 0.0094 - accuracy: 0.5565 - val_loss: 3.4915e-04 - val_mean_absolute_error: 0.0137 - val_accuracy: 0.4876\n",
      "Epoch 183/300\n",
      "31/31 [==============================] - 0s 6ms/step - loss: 1.6274e-04 - mean_absolute_error: 0.0085 - accuracy: 0.5280 - val_loss: 2.1052e-04 - val_mean_absolute_error: 0.0109 - val_accuracy: 0.4917\n",
      "Epoch 184/300\n",
      "31/31 [==============================] - 0s 6ms/step - loss: 1.8963e-04 - mean_absolute_error: 0.0094 - accuracy: 0.5585 - val_loss: 3.6721e-04 - val_mean_absolute_error: 0.0138 - val_accuracy: 0.4793\n",
      "Epoch 185/300\n",
      "31/31 [==============================] - 0s 6ms/step - loss: 1.5525e-04 - mean_absolute_error: 0.0083 - accuracy: 0.5219 - val_loss: 2.7820e-04 - val_mean_absolute_error: 0.0119 - val_accuracy: 0.4793\n",
      "Epoch 186/300\n",
      "31/31 [==============================] - 0s 6ms/step - loss: 1.8920e-04 - mean_absolute_error: 0.0092 - accuracy: 0.5483 - val_loss: 2.5077e-04 - val_mean_absolute_error: 0.0115 - val_accuracy: 0.4793\n",
      "Epoch 187/300\n",
      "31/31 [==============================] - 0s 6ms/step - loss: 2.0686e-04 - mean_absolute_error: 0.0098 - accuracy: 0.5697 - val_loss: 7.3651e-04 - val_mean_absolute_error: 0.0226 - val_accuracy: 0.4793\n",
      "Epoch 188/300\n",
      "31/31 [==============================] - 0s 6ms/step - loss: 1.8061e-04 - mean_absolute_error: 0.0094 - accuracy: 0.5656 - val_loss: 2.1742e-04 - val_mean_absolute_error: 0.0113 - val_accuracy: 0.4793\n",
      "Epoch 189/300\n",
      "31/31 [==============================] - 0s 6ms/step - loss: 1.7398e-04 - mean_absolute_error: 0.0088 - accuracy: 0.5493 - val_loss: 3.6416e-04 - val_mean_absolute_error: 0.0144 - val_accuracy: 0.5124\n",
      "Epoch 190/300\n",
      "31/31 [==============================] - 0s 6ms/step - loss: 2.0992e-04 - mean_absolute_error: 0.0100 - accuracy: 0.5646 - val_loss: 2.2802e-04 - val_mean_absolute_error: 0.0117 - val_accuracy: 0.5165\n",
      "Epoch 191/300\n"
     ]
    },
    {
     "name": "stdout",
     "output_type": "stream",
     "text": [
      "31/31 [==============================] - 0s 6ms/step - loss: 2.1274e-04 - mean_absolute_error: 0.0103 - accuracy: 0.5392 - val_loss: 5.2049e-04 - val_mean_absolute_error: 0.0179 - val_accuracy: 0.5165\n",
      "Epoch 192/300\n",
      "31/31 [==============================] - 0s 6ms/step - loss: 1.7287e-04 - mean_absolute_error: 0.0089 - accuracy: 0.5544 - val_loss: 3.4598e-04 - val_mean_absolute_error: 0.0157 - val_accuracy: 0.4917\n",
      "Epoch 193/300\n",
      "31/31 [==============================] - 0s 6ms/step - loss: 1.9152e-04 - mean_absolute_error: 0.0094 - accuracy: 0.5148 - val_loss: 6.0910e-04 - val_mean_absolute_error: 0.0194 - val_accuracy: 0.5124\n",
      "Epoch 194/300\n",
      "31/31 [==============================] - 0s 6ms/step - loss: 1.8681e-04 - mean_absolute_error: 0.0093 - accuracy: 0.5259 - val_loss: 2.4450e-04 - val_mean_absolute_error: 0.0109 - val_accuracy: 0.4793\n",
      "Epoch 195/300\n",
      "31/31 [==============================] - 0s 6ms/step - loss: 2.0696e-04 - mean_absolute_error: 0.0100 - accuracy: 0.4852 - val_loss: 6.5517e-04 - val_mean_absolute_error: 0.0207 - val_accuracy: 0.5579\n",
      "Epoch 196/300\n",
      "31/31 [==============================] - 0s 6ms/step - loss: 1.8469e-04 - mean_absolute_error: 0.0092 - accuracy: 0.5341 - val_loss: 2.7354e-04 - val_mean_absolute_error: 0.0134 - val_accuracy: 0.4793\n",
      "Epoch 197/300\n",
      "31/31 [==============================] - 0s 6ms/step - loss: 1.8659e-04 - mean_absolute_error: 0.0092 - accuracy: 0.5239 - val_loss: 5.5509e-04 - val_mean_absolute_error: 0.0193 - val_accuracy: 0.5207\n",
      "Epoch 198/300\n",
      "31/31 [==============================] - 0s 6ms/step - loss: 1.9371e-04 - mean_absolute_error: 0.0094 - accuracy: 0.5473 - val_loss: 2.9593e-04 - val_mean_absolute_error: 0.0125 - val_accuracy: 0.5289\n",
      "Epoch 199/300\n",
      "31/31 [==============================] - 0s 6ms/step - loss: 1.6164e-04 - mean_absolute_error: 0.0086 - accuracy: 0.5656 - val_loss: 4.2515e-04 - val_mean_absolute_error: 0.0178 - val_accuracy: 0.5124\n",
      "Epoch 200/300\n",
      "31/31 [==============================] - 0s 6ms/step - loss: 2.1112e-04 - mean_absolute_error: 0.0098 - accuracy: 0.5270 - val_loss: 2.8953e-04 - val_mean_absolute_error: 0.0121 - val_accuracy: 0.5124\n",
      "Epoch 201/300\n",
      "31/31 [==============================] - 0s 6ms/step - loss: 1.6249e-04 - mean_absolute_error: 0.0087 - accuracy: 0.5290 - val_loss: 2.5248e-04 - val_mean_absolute_error: 0.0110 - val_accuracy: 0.4793\n",
      "Epoch 202/300\n",
      "31/31 [==============================] - 0s 6ms/step - loss: 1.8567e-04 - mean_absolute_error: 0.0091 - accuracy: 0.5270 - val_loss: 2.7596e-04 - val_mean_absolute_error: 0.0115 - val_accuracy: 0.4793\n",
      "Epoch 203/300\n",
      "31/31 [==============================] - 0s 6ms/step - loss: 1.7381e-04 - mean_absolute_error: 0.0090 - accuracy: 0.5015 - val_loss: 1.9454e-04 - val_mean_absolute_error: 0.0099 - val_accuracy: 0.5537\n",
      "Epoch 204/300\n",
      "31/31 [==============================] - 0s 6ms/step - loss: 1.7517e-04 - mean_absolute_error: 0.0087 - accuracy: 0.5432 - val_loss: 1.8795e-04 - val_mean_absolute_error: 0.0098 - val_accuracy: 0.5372\n",
      "Epoch 205/300\n",
      "31/31 [==============================] - 0s 6ms/step - loss: 1.5855e-04 - mean_absolute_error: 0.0085 - accuracy: 0.5687 - val_loss: 2.3988e-04 - val_mean_absolute_error: 0.0108 - val_accuracy: 0.4917\n",
      "Epoch 206/300\n",
      "31/31 [==============================] - 0s 6ms/step - loss: 1.8311e-04 - mean_absolute_error: 0.0091 - accuracy: 0.5534 - val_loss: 1.8980e-04 - val_mean_absolute_error: 0.0097 - val_accuracy: 0.4876\n",
      "Epoch 207/300\n",
      "31/31 [==============================] - 0s 6ms/step - loss: 1.7358e-04 - mean_absolute_error: 0.0088 - accuracy: 0.5585 - val_loss: 5.0368e-04 - val_mean_absolute_error: 0.0179 - val_accuracy: 0.5496\n",
      "Epoch 208/300\n",
      "31/31 [==============================] - 0s 6ms/step - loss: 2.3653e-04 - mean_absolute_error: 0.0107 - accuracy: 0.5534 - val_loss: 4.2844e-04 - val_mean_absolute_error: 0.0159 - val_accuracy: 0.4793\n",
      "Epoch 209/300\n",
      "31/31 [==============================] - 0s 6ms/step - loss: 1.6090e-04 - mean_absolute_error: 0.0083 - accuracy: 0.5259 - val_loss: 3.0441e-04 - val_mean_absolute_error: 0.0127 - val_accuracy: 0.5289\n",
      "Epoch 210/300\n",
      "31/31 [==============================] - 0s 6ms/step - loss: 1.5993e-04 - mean_absolute_error: 0.0085 - accuracy: 0.5524 - val_loss: 1.8107e-04 - val_mean_absolute_error: 0.0096 - val_accuracy: 0.5248\n",
      "Epoch 211/300\n",
      "31/31 [==============================] - 0s 6ms/step - loss: 2.2500e-04 - mean_absolute_error: 0.0105 - accuracy: 0.5280 - val_loss: 1.9943e-04 - val_mean_absolute_error: 0.0109 - val_accuracy: 0.5165\n",
      "Epoch 212/300\n",
      "31/31 [==============================] - 0s 6ms/step - loss: 1.5710e-04 - mean_absolute_error: 0.0083 - accuracy: 0.5534 - val_loss: 2.4706e-04 - val_mean_absolute_error: 0.0109 - val_accuracy: 0.4793\n",
      "Epoch 213/300\n",
      "31/31 [==============================] - 0s 6ms/step - loss: 1.6516e-04 - mean_absolute_error: 0.0087 - accuracy: 0.5514 - val_loss: 2.4356e-04 - val_mean_absolute_error: 0.0108 - val_accuracy: 0.4917\n",
      "Epoch 214/300\n",
      "31/31 [==============================] - 0s 6ms/step - loss: 1.6140e-04 - mean_absolute_error: 0.0088 - accuracy: 0.5504 - val_loss: 2.2618e-04 - val_mean_absolute_error: 0.0103 - val_accuracy: 0.4793\n",
      "Epoch 215/300\n",
      "31/31 [==============================] - 0s 6ms/step - loss: 1.4991e-04 - mean_absolute_error: 0.0083 - accuracy: 0.5483 - val_loss: 3.6553e-04 - val_mean_absolute_error: 0.0144 - val_accuracy: 0.5372\n",
      "Epoch 216/300\n",
      "31/31 [==============================] - 0s 6ms/step - loss: 1.7078e-04 - mean_absolute_error: 0.0086 - accuracy: 0.5554 - val_loss: 2.2209e-04 - val_mean_absolute_error: 0.0102 - val_accuracy: 0.4876\n",
      "Epoch 217/300\n",
      "31/31 [==============================] - 0s 6ms/step - loss: 1.5746e-04 - mean_absolute_error: 0.0083 - accuracy: 0.5493 - val_loss: 1.8339e-04 - val_mean_absolute_error: 0.0099 - val_accuracy: 0.4793\n",
      "Epoch 218/300\n",
      "31/31 [==============================] - 0s 6ms/step - loss: 1.7183e-04 - mean_absolute_error: 0.0087 - accuracy: 0.5493 - val_loss: 2.8019e-04 - val_mean_absolute_error: 0.0119 - val_accuracy: 0.4793\n",
      "Epoch 219/300\n",
      "31/31 [==============================] - 0s 6ms/step - loss: 1.5687e-04 - mean_absolute_error: 0.0084 - accuracy: 0.5453 - val_loss: 2.0783e-04 - val_mean_absolute_error: 0.0113 - val_accuracy: 0.4793\n",
      "Epoch 220/300\n",
      "31/31 [==============================] - 0s 6ms/step - loss: 1.5817e-04 - mean_absolute_error: 0.0085 - accuracy: 0.5392 - val_loss: 2.2229e-04 - val_mean_absolute_error: 0.0102 - val_accuracy: 0.4793\n",
      "Epoch 221/300\n",
      "31/31 [==============================] - 0s 6ms/step - loss: 1.7433e-04 - mean_absolute_error: 0.0091 - accuracy: 0.5361 - val_loss: 2.6744e-04 - val_mean_absolute_error: 0.0112 - val_accuracy: 0.4793\n",
      "Epoch 222/300\n",
      "31/31 [==============================] - 0s 6ms/step - loss: 1.5633e-04 - mean_absolute_error: 0.0082 - accuracy: 0.5463 - val_loss: 2.5914e-04 - val_mean_absolute_error: 0.0110 - val_accuracy: 0.4793\n",
      "Epoch 223/300\n",
      "31/31 [==============================] - 0s 6ms/step - loss: 1.3925e-04 - mean_absolute_error: 0.0080 - accuracy: 0.5463 - val_loss: 1.9969e-04 - val_mean_absolute_error: 0.0097 - val_accuracy: 0.4835\n",
      "Epoch 224/300\n",
      "31/31 [==============================] - 0s 6ms/step - loss: 1.4120e-04 - mean_absolute_error: 0.0080 - accuracy: 0.5585 - val_loss: 2.6359e-04 - val_mean_absolute_error: 0.0111 - val_accuracy: 0.4793\n",
      "Epoch 225/300\n",
      "31/31 [==============================] - 0s 6ms/step - loss: 1.4455e-04 - mean_absolute_error: 0.0080 - accuracy: 0.5524 - val_loss: 1.7253e-04 - val_mean_absolute_error: 0.0095 - val_accuracy: 0.5041\n",
      "Epoch 226/300\n",
      "31/31 [==============================] - 0s 6ms/step - loss: 1.4064e-04 - mean_absolute_error: 0.0081 - accuracy: 0.5219 - val_loss: 2.1579e-04 - val_mean_absolute_error: 0.0101 - val_accuracy: 0.4835\n",
      "Epoch 227/300\n",
      "31/31 [==============================] - 0s 6ms/step - loss: 1.5397e-04 - mean_absolute_error: 0.0084 - accuracy: 0.5127 - val_loss: 3.1604e-04 - val_mean_absolute_error: 0.0150 - val_accuracy: 0.4793\n",
      "Epoch 228/300\n",
      "31/31 [==============================] - 0s 6ms/step - loss: 1.7998e-04 - mean_absolute_error: 0.0095 - accuracy: 0.5270 - val_loss: 2.0314e-04 - val_mean_absolute_error: 0.0097 - val_accuracy: 0.4793\n",
      "Epoch 229/300\n"
     ]
    },
    {
     "name": "stdout",
     "output_type": "stream",
     "text": [
      "31/31 [==============================] - 0s 6ms/step - loss: 1.4237e-04 - mean_absolute_error: 0.0078 - accuracy: 0.5463 - val_loss: 1.8845e-04 - val_mean_absolute_error: 0.0095 - val_accuracy: 0.5207\n",
      "Epoch 230/300\n",
      "31/31 [==============================] - 0s 6ms/step - loss: 1.4778e-04 - mean_absolute_error: 0.0083 - accuracy: 0.5453 - val_loss: 1.9493e-04 - val_mean_absolute_error: 0.0100 - val_accuracy: 0.5207\n",
      "Epoch 231/300\n",
      "31/31 [==============================] - 0s 6ms/step - loss: 1.6383e-04 - mean_absolute_error: 0.0087 - accuracy: 0.5412 - val_loss: 1.8240e-04 - val_mean_absolute_error: 0.0097 - val_accuracy: 0.4793\n",
      "Epoch 232/300\n",
      "31/31 [==============================] - 0s 6ms/step - loss: 1.5341e-04 - mean_absolute_error: 0.0085 - accuracy: 0.5361 - val_loss: 2.1838e-04 - val_mean_absolute_error: 0.0103 - val_accuracy: 0.5331\n",
      "Epoch 233/300\n",
      "31/31 [==============================] - 0s 6ms/step - loss: 1.8675e-04 - mean_absolute_error: 0.0095 - accuracy: 0.5351 - val_loss: 2.0838e-04 - val_mean_absolute_error: 0.0114 - val_accuracy: 0.4876\n",
      "Epoch 234/300\n",
      "31/31 [==============================] - 0s 6ms/step - loss: 1.7781e-04 - mean_absolute_error: 0.0090 - accuracy: 0.5636 - val_loss: 3.4689e-04 - val_mean_absolute_error: 0.0143 - val_accuracy: 0.5537\n",
      "Epoch 235/300\n",
      "31/31 [==============================] - 0s 6ms/step - loss: 1.6116e-04 - mean_absolute_error: 0.0086 - accuracy: 0.5229 - val_loss: 1.6977e-04 - val_mean_absolute_error: 0.0093 - val_accuracy: 0.5413\n",
      "Epoch 236/300\n",
      "31/31 [==============================] - 0s 6ms/step - loss: 1.4315e-04 - mean_absolute_error: 0.0081 - accuracy: 0.5443 - val_loss: 2.1222e-04 - val_mean_absolute_error: 0.0099 - val_accuracy: 0.5537\n",
      "Epoch 237/300\n",
      "31/31 [==============================] - 0s 6ms/step - loss: 1.4528e-04 - mean_absolute_error: 0.0082 - accuracy: 0.5585 - val_loss: 1.9953e-04 - val_mean_absolute_error: 0.0110 - val_accuracy: 0.4793\n",
      "Epoch 238/300\n",
      "31/31 [==============================] - 0s 6ms/step - loss: 1.4473e-04 - mean_absolute_error: 0.0082 - accuracy: 0.5534 - val_loss: 4.0223e-04 - val_mean_absolute_error: 0.0153 - val_accuracy: 0.4793\n",
      "Epoch 239/300\n",
      "31/31 [==============================] - 0s 6ms/step - loss: 1.2786e-04 - mean_absolute_error: 0.0078 - accuracy: 0.5534 - val_loss: 1.7109e-04 - val_mean_absolute_error: 0.0091 - val_accuracy: 0.4835\n",
      "Epoch 240/300\n",
      "31/31 [==============================] - 0s 6ms/step - loss: 1.2981e-04 - mean_absolute_error: 0.0077 - accuracy: 0.5717 - val_loss: 4.3143e-04 - val_mean_absolute_error: 0.0160 - val_accuracy: 0.4793\n",
      "Epoch 241/300\n",
      "31/31 [==============================] - 0s 6ms/step - loss: 1.4095e-04 - mean_absolute_error: 0.0078 - accuracy: 0.5677 - val_loss: 1.9222e-04 - val_mean_absolute_error: 0.0094 - val_accuracy: 0.4793\n",
      "Epoch 242/300\n",
      "31/31 [==============================] - 0s 6ms/step - loss: 1.3501e-04 - mean_absolute_error: 0.0077 - accuracy: 0.5636 - val_loss: 2.0274e-04 - val_mean_absolute_error: 0.0096 - val_accuracy: 0.4793\n",
      "Epoch 243/300\n",
      "31/31 [==============================] - 0s 6ms/step - loss: 1.2760e-04 - mean_absolute_error: 0.0075 - accuracy: 0.5554 - val_loss: 2.0272e-04 - val_mean_absolute_error: 0.0096 - val_accuracy: 0.4835\n",
      "Epoch 244/300\n",
      "31/31 [==============================] - 0s 6ms/step - loss: 1.7829e-04 - mean_absolute_error: 0.0092 - accuracy: 0.5402 - val_loss: 2.9821e-04 - val_mean_absolute_error: 0.0121 - val_accuracy: 0.4793\n",
      "Epoch 245/300\n",
      "31/31 [==============================] - 0s 6ms/step - loss: 1.4522e-04 - mean_absolute_error: 0.0082 - accuracy: 0.5453 - val_loss: 2.3784e-04 - val_mean_absolute_error: 0.0104 - val_accuracy: 0.4793\n",
      "Epoch 246/300\n",
      "31/31 [==============================] - 0s 6ms/step - loss: 1.2544e-04 - mean_absolute_error: 0.0078 - accuracy: 0.5066 - val_loss: 1.8784e-04 - val_mean_absolute_error: 0.0101 - val_accuracy: 0.4793\n",
      "Epoch 247/300\n",
      "31/31 [==============================] - 0s 6ms/step - loss: 1.4483e-04 - mean_absolute_error: 0.0079 - accuracy: 0.5453 - val_loss: 1.9350e-04 - val_mean_absolute_error: 0.0094 - val_accuracy: 0.4876\n",
      "Epoch 248/300\n",
      "31/31 [==============================] - 0s 6ms/step - loss: 1.5862e-04 - mean_absolute_error: 0.0087 - accuracy: 0.5229 - val_loss: 0.0011 - val_mean_absolute_error: 0.0289 - val_accuracy: 0.4876\n",
      "Epoch 249/300\n",
      "31/31 [==============================] - 0s 6ms/step - loss: 2.1616e-04 - mean_absolute_error: 0.0103 - accuracy: 0.5412 - val_loss: 1.8377e-04 - val_mean_absolute_error: 0.0092 - val_accuracy: 0.4917\n",
      "Epoch 250/300\n",
      "31/31 [==============================] - 0s 6ms/step - loss: 1.6108e-04 - mean_absolute_error: 0.0087 - accuracy: 0.5351 - val_loss: 5.0116e-04 - val_mean_absolute_error: 0.0174 - val_accuracy: 0.5207\n",
      "Epoch 251/300\n",
      "31/31 [==============================] - 0s 6ms/step - loss: 1.5565e-04 - mean_absolute_error: 0.0083 - accuracy: 0.5412 - val_loss: 2.8026e-04 - val_mean_absolute_error: 0.0119 - val_accuracy: 0.5207\n",
      "Epoch 252/300\n",
      "31/31 [==============================] - 0s 6ms/step - loss: 1.6280e-04 - mean_absolute_error: 0.0087 - accuracy: 0.5148 - val_loss: 2.1775e-04 - val_mean_absolute_error: 0.0119 - val_accuracy: 0.4793\n",
      "Epoch 253/300\n",
      "31/31 [==============================] - 0s 6ms/step - loss: 1.4121e-04 - mean_absolute_error: 0.0081 - accuracy: 0.5544 - val_loss: 2.0828e-04 - val_mean_absolute_error: 0.0097 - val_accuracy: 0.4793\n",
      "Epoch 254/300\n",
      "31/31 [==============================] - 0s 6ms/step - loss: 1.2756e-04 - mean_absolute_error: 0.0075 - accuracy: 0.5585 - val_loss: 2.0967e-04 - val_mean_absolute_error: 0.0099 - val_accuracy: 0.5413\n",
      "Epoch 255/300\n",
      "31/31 [==============================] - 0s 6ms/step - loss: 1.3964e-04 - mean_absolute_error: 0.0081 - accuracy: 0.5687 - val_loss: 2.0553e-04 - val_mean_absolute_error: 0.0097 - val_accuracy: 0.4793\n",
      "Epoch 256/300\n",
      "31/31 [==============================] - 0s 6ms/step - loss: 1.3220e-04 - mean_absolute_error: 0.0077 - accuracy: 0.5158 - val_loss: 1.6711e-04 - val_mean_absolute_error: 0.0093 - val_accuracy: 0.4959\n",
      "Epoch 257/300\n",
      "31/31 [==============================] - 0s 6ms/step - loss: 1.4550e-04 - mean_absolute_error: 0.0082 - accuracy: 0.5432 - val_loss: 2.0170e-04 - val_mean_absolute_error: 0.0096 - val_accuracy: 0.5083\n",
      "Epoch 258/300\n",
      "31/31 [==============================] - 0s 6ms/step - loss: 1.3423e-04 - mean_absolute_error: 0.0077 - accuracy: 0.5534 - val_loss: 1.7970e-04 - val_mean_absolute_error: 0.0092 - val_accuracy: 0.4793\n",
      "Epoch 259/300\n",
      "31/31 [==============================] - 0s 6ms/step - loss: 1.4183e-04 - mean_absolute_error: 0.0083 - accuracy: 0.5504 - val_loss: 4.1103e-04 - val_mean_absolute_error: 0.0178 - val_accuracy: 0.4793\n",
      "Epoch 260/300\n",
      "31/31 [==============================] - 0s 6ms/step - loss: 1.6783e-04 - mean_absolute_error: 0.0086 - accuracy: 0.5453 - val_loss: 2.6415e-04 - val_mean_absolute_error: 0.0116 - val_accuracy: 0.5413\n",
      "Epoch 261/300\n",
      "31/31 [==============================] - 0s 6ms/step - loss: 1.4623e-04 - mean_absolute_error: 0.0084 - accuracy: 0.5453 - val_loss: 2.1149e-04 - val_mean_absolute_error: 0.0098 - val_accuracy: 0.4793\n",
      "Epoch 262/300\n",
      "31/31 [==============================] - 0s 6ms/step - loss: 1.6080e-04 - mean_absolute_error: 0.0087 - accuracy: 0.5300 - val_loss: 3.5337e-04 - val_mean_absolute_error: 0.0147 - val_accuracy: 0.5207\n",
      "Epoch 263/300\n",
      "31/31 [==============================] - 0s 6ms/step - loss: 2.1757e-04 - mean_absolute_error: 0.0096 - accuracy: 0.5412 - val_loss: 6.2279e-04 - val_mean_absolute_error: 0.0226 - val_accuracy: 0.4793\n",
      "Epoch 264/300\n",
      "31/31 [==============================] - 0s 6ms/step - loss: 2.4832e-04 - mean_absolute_error: 0.0112 - accuracy: 0.5270 - val_loss: 2.6540e-04 - val_mean_absolute_error: 0.0116 - val_accuracy: 0.5165\n",
      "Epoch 265/300\n",
      "31/31 [==============================] - 0s 6ms/step - loss: 1.8057e-04 - mean_absolute_error: 0.0090 - accuracy: 0.5636 - val_loss: 2.7623e-04 - val_mean_absolute_error: 0.0120 - val_accuracy: 0.5207\n",
      "Epoch 266/300\n",
      "31/31 [==============================] - 0s 6ms/step - loss: 1.3523e-04 - mean_absolute_error: 0.0079 - accuracy: 0.5615 - val_loss: 1.9125e-04 - val_mean_absolute_error: 0.0106 - val_accuracy: 0.4793\n",
      "Epoch 267/300\n"
     ]
    },
    {
     "name": "stdout",
     "output_type": "stream",
     "text": [
      "31/31 [==============================] - 0s 6ms/step - loss: 2.6315e-04 - mean_absolute_error: 0.0112 - accuracy: 0.5412 - val_loss: 3.9722e-04 - val_mean_absolute_error: 0.0154 - val_accuracy: 0.4793\n",
      "Epoch 268/300\n",
      "31/31 [==============================] - 0s 6ms/step - loss: 2.1149e-04 - mean_absolute_error: 0.0099 - accuracy: 0.5585 - val_loss: 1.8501e-04 - val_mean_absolute_error: 0.0094 - val_accuracy: 0.4793\n",
      "Epoch 269/300\n",
      "31/31 [==============================] - 0s 6ms/step - loss: 1.8971e-04 - mean_absolute_error: 0.0094 - accuracy: 0.5056 - val_loss: 1.9535e-04 - val_mean_absolute_error: 0.0109 - val_accuracy: 0.4793\n",
      "Epoch 270/300\n",
      "31/31 [==============================] - 0s 6ms/step - loss: 1.4007e-04 - mean_absolute_error: 0.0083 - accuracy: 0.5290 - val_loss: 3.9888e-04 - val_mean_absolute_error: 0.0150 - val_accuracy: 0.4793\n",
      "Epoch 271/300\n",
      "31/31 [==============================] - 0s 6ms/step - loss: 1.4638e-04 - mean_absolute_error: 0.0081 - accuracy: 0.5534 - val_loss: 2.8996e-04 - val_mean_absolute_error: 0.0122 - val_accuracy: 0.5331\n",
      "Epoch 272/300\n",
      "31/31 [==============================] - 0s 6ms/step - loss: 1.2802e-04 - mean_absolute_error: 0.0076 - accuracy: 0.5504 - val_loss: 3.1310e-04 - val_mean_absolute_error: 0.0135 - val_accuracy: 0.5207\n",
      "Epoch 273/300\n",
      "31/31 [==============================] - 0s 6ms/step - loss: 1.6651e-04 - mean_absolute_error: 0.0087 - accuracy: 0.5351 - val_loss: 2.4111e-04 - val_mean_absolute_error: 0.0127 - val_accuracy: 0.5207\n",
      "Epoch 274/300\n",
      "31/31 [==============================] - 0s 6ms/step - loss: 1.3806e-04 - mean_absolute_error: 0.0081 - accuracy: 0.5148 - val_loss: 2.1203e-04 - val_mean_absolute_error: 0.0100 - val_accuracy: 0.5372\n",
      "Epoch 275/300\n",
      "31/31 [==============================] - 0s 6ms/step - loss: 1.5588e-04 - mean_absolute_error: 0.0084 - accuracy: 0.5504 - val_loss: 7.5697e-04 - val_mean_absolute_error: 0.0230 - val_accuracy: 0.4793\n",
      "Epoch 276/300\n",
      "31/31 [==============================] - 0s 6ms/step - loss: 1.5480e-04 - mean_absolute_error: 0.0085 - accuracy: 0.5544 - val_loss: 2.5865e-04 - val_mean_absolute_error: 0.0111 - val_accuracy: 0.4793\n",
      "Epoch 277/300\n",
      "31/31 [==============================] - 0s 6ms/step - loss: 1.5888e-04 - mean_absolute_error: 0.0084 - accuracy: 0.5432 - val_loss: 2.0025e-04 - val_mean_absolute_error: 0.0110 - val_accuracy: 0.5207\n",
      "Epoch 278/300\n",
      "31/31 [==============================] - 0s 6ms/step - loss: 2.0287e-04 - mean_absolute_error: 0.0100 - accuracy: 0.5229 - val_loss: 3.2157e-04 - val_mean_absolute_error: 0.0133 - val_accuracy: 0.5496\n",
      "Epoch 279/300\n",
      "31/31 [==============================] - 0s 6ms/step - loss: 1.5348e-04 - mean_absolute_error: 0.0087 - accuracy: 0.5320 - val_loss: 3.3054e-04 - val_mean_absolute_error: 0.0131 - val_accuracy: 0.4876\n",
      "Epoch 280/300\n",
      "31/31 [==============================] - 0s 6ms/step - loss: 1.4879e-04 - mean_absolute_error: 0.0083 - accuracy: 0.5646 - val_loss: 1.9817e-04 - val_mean_absolute_error: 0.0111 - val_accuracy: 0.4876\n",
      "Epoch 281/300\n",
      "31/31 [==============================] - 0s 6ms/step - loss: 1.3426e-04 - mean_absolute_error: 0.0077 - accuracy: 0.5076 - val_loss: 2.6972e-04 - val_mean_absolute_error: 0.0117 - val_accuracy: 0.5165\n",
      "Epoch 282/300\n",
      "31/31 [==============================] - 0s 6ms/step - loss: 1.3799e-04 - mean_absolute_error: 0.0077 - accuracy: 0.5514 - val_loss: 2.2140e-04 - val_mean_absolute_error: 0.0101 - val_accuracy: 0.4793\n",
      "Epoch 283/300\n",
      "31/31 [==============================] - 0s 6ms/step - loss: 1.5461e-04 - mean_absolute_error: 0.0085 - accuracy: 0.5524 - val_loss: 1.8572e-04 - val_mean_absolute_error: 0.0100 - val_accuracy: 0.4793\n",
      "Epoch 284/300\n",
      "31/31 [==============================] - 0s 6ms/step - loss: 1.2129e-04 - mean_absolute_error: 0.0075 - accuracy: 0.5687 - val_loss: 2.5065e-04 - val_mean_absolute_error: 0.0109 - val_accuracy: 0.5207\n",
      "Epoch 285/300\n",
      "31/31 [==============================] - 0s 6ms/step - loss: 1.3929e-04 - mean_absolute_error: 0.0078 - accuracy: 0.5473 - val_loss: 3.4273e-04 - val_mean_absolute_error: 0.0140 - val_accuracy: 0.5207\n",
      "Epoch 286/300\n",
      "31/31 [==============================] - 0s 6ms/step - loss: 1.2419e-04 - mean_absolute_error: 0.0074 - accuracy: 0.5544 - val_loss: 1.7816e-04 - val_mean_absolute_error: 0.0092 - val_accuracy: 0.5207\n",
      "Epoch 287/300\n",
      "31/31 [==============================] - 0s 7ms/step - loss: 1.2686e-04 - mean_absolute_error: 0.0076 - accuracy: 0.5259 - val_loss: 1.9029e-04 - val_mean_absolute_error: 0.0093 - val_accuracy: 0.4917\n",
      "Epoch 288/300\n",
      "31/31 [==============================] - 0s 7ms/step - loss: 1.3858e-04 - mean_absolute_error: 0.0080 - accuracy: 0.5697 - val_loss: 3.4810e-04 - val_mean_absolute_error: 0.0130 - val_accuracy: 0.4793\n",
      "Epoch 289/300\n",
      "31/31 [==============================] - 0s 6ms/step - loss: 1.3507e-04 - mean_absolute_error: 0.0076 - accuracy: 0.4883 - val_loss: 2.5333e-04 - val_mean_absolute_error: 0.0109 - val_accuracy: 0.4793\n",
      "Epoch 290/300\n",
      "31/31 [==============================] - 0s 6ms/step - loss: 1.2527e-04 - mean_absolute_error: 0.0076 - accuracy: 0.5158 - val_loss: 1.9021e-04 - val_mean_absolute_error: 0.0093 - val_accuracy: 0.5207\n",
      "Epoch 291/300\n",
      "31/31 [==============================] - 0s 6ms/step - loss: 1.3598e-04 - mean_absolute_error: 0.0078 - accuracy: 0.5259 - val_loss: 1.7221e-04 - val_mean_absolute_error: 0.0090 - val_accuracy: 0.5207\n",
      "Epoch 292/300\n",
      "31/31 [==============================] - 0s 6ms/step - loss: 1.3117e-04 - mean_absolute_error: 0.0078 - accuracy: 0.5493 - val_loss: 5.2329e-04 - val_mean_absolute_error: 0.0182 - val_accuracy: 0.4917\n",
      "Epoch 293/300\n",
      "31/31 [==============================] - 0s 6ms/step - loss: 1.4138e-04 - mean_absolute_error: 0.0081 - accuracy: 0.5585 - val_loss: 1.7409e-04 - val_mean_absolute_error: 0.0095 - val_accuracy: 0.4876\n",
      "Epoch 294/300\n",
      "31/31 [==============================] - 0s 6ms/step - loss: 1.3830e-04 - mean_absolute_error: 0.0079 - accuracy: 0.5524 - val_loss: 2.6826e-04 - val_mean_absolute_error: 0.0122 - val_accuracy: 0.5207\n",
      "Epoch 295/300\n",
      "31/31 [==============================] - 0s 6ms/step - loss: 1.4121e-04 - mean_absolute_error: 0.0084 - accuracy: 0.5534 - val_loss: 2.2862e-04 - val_mean_absolute_error: 0.0101 - val_accuracy: 0.4793\n",
      "Epoch 296/300\n",
      "31/31 [==============================] - 0s 7ms/step - loss: 1.2355e-04 - mean_absolute_error: 0.0075 - accuracy: 0.5463 - val_loss: 1.6796e-04 - val_mean_absolute_error: 0.0090 - val_accuracy: 0.5124\n",
      "Epoch 297/300\n",
      "31/31 [==============================] - 0s 6ms/step - loss: 1.5374e-04 - mean_absolute_error: 0.0084 - accuracy: 0.5534 - val_loss: 2.5366e-04 - val_mean_absolute_error: 0.0112 - val_accuracy: 0.5041\n",
      "Epoch 298/300\n",
      "31/31 [==============================] - 0s 6ms/step - loss: 1.3547e-04 - mean_absolute_error: 0.0078 - accuracy: 0.5534 - val_loss: 5.4985e-04 - val_mean_absolute_error: 0.0188 - val_accuracy: 0.4793\n",
      "Epoch 299/300\n",
      "31/31 [==============================] - 0s 6ms/step - loss: 1.3307e-04 - mean_absolute_error: 0.0079 - accuracy: 0.5300 - val_loss: 2.7997e-04 - val_mean_absolute_error: 0.0115 - val_accuracy: 0.4917\n",
      "Epoch 300/300\n",
      "31/31 [==============================] - 0s 6ms/step - loss: 1.4711e-04 - mean_absolute_error: 0.0080 - accuracy: 0.5646 - val_loss: 2.1698e-04 - val_mean_absolute_error: 0.0102 - val_accuracy: 0.5207\n"
     ]
    },
    {
     "data": {
      "text/plain": [
       "<keras.callbacks.History at 0x16d1b2a9c40>"
      ]
     },
     "execution_count": 20,
     "metadata": {},
     "output_type": "execute_result"
    }
   ],
   "source": [
    "model.fit(train_seq, train_label, epochs=300,validation_data=(test_seq, test_label), verbose=1)"
   ]
  },
  {
   "cell_type": "code",
   "execution_count": 21,
   "id": "3d7b1702",
   "metadata": {},
   "outputs": [
    {
     "name": "stdout",
     "output_type": "stream",
     "text": [
      "8/8 [==============================] - 1s 2ms/step\n"
     ]
    }
   ],
   "source": [
    "test_predicted = model.predict(test_seq)"
   ]
  },
  {
   "cell_type": "code",
   "execution_count": 22,
   "id": "628cfbeb",
   "metadata": {},
   "outputs": [],
   "source": [
    "test_inverse_predicted = MS.inverse_transform(test_predicted)"
   ]
  },
  {
   "cell_type": "code",
   "execution_count": 23,
   "id": "07b14a45",
   "metadata": {},
   "outputs": [],
   "source": [
    "# Merging actual and predicted data for better visualization\n",
    "stk_slic_data = pd.concat([stk.iloc[-242:].copy(),pd.DataFrame(test_inverse_predicted,columns=['open_predicted','close_predicted'],index=stk.iloc[-242:].index)], axis=1)"
   ]
  },
  {
   "cell_type": "code",
   "execution_count": 24,
   "id": "80978ef4",
   "metadata": {},
   "outputs": [],
   "source": [
    "stk_slic_data[['Open','Close']] = MS.inverse_transform(stk_slic_data[['Open','Close']])"
   ]
  },
  {
   "cell_type": "code",
   "execution_count": 25,
   "id": "0ce69a49",
   "metadata": {},
   "outputs": [
    {
     "data": {
      "text/html": [
       "<div>\n",
       "<style scoped>\n",
       "    .dataframe tbody tr th:only-of-type {\n",
       "        vertical-align: middle;\n",
       "    }\n",
       "\n",
       "    .dataframe tbody tr th {\n",
       "        vertical-align: top;\n",
       "    }\n",
       "\n",
       "    .dataframe thead th {\n",
       "        text-align: right;\n",
       "    }\n",
       "</style>\n",
       "<table border=\"1\" class=\"dataframe\">\n",
       "  <thead>\n",
       "    <tr style=\"text-align: right;\">\n",
       "      <th></th>\n",
       "      <th>Open</th>\n",
       "      <th>Close</th>\n",
       "      <th>open_predicted</th>\n",
       "      <th>close_predicted</th>\n",
       "    </tr>\n",
       "    <tr>\n",
       "      <th>Date</th>\n",
       "      <th></th>\n",
       "      <th></th>\n",
       "      <th></th>\n",
       "      <th></th>\n",
       "    </tr>\n",
       "  </thead>\n",
       "  <tbody>\n",
       "    <tr>\n",
       "      <th>2022-01-10</th>\n",
       "      <td>709.000000</td>\n",
       "      <td>693.500000</td>\n",
       "      <td>715.439392</td>\n",
       "      <td>709.518799</td>\n",
       "    </tr>\n",
       "    <tr>\n",
       "      <th>2022-01-11</th>\n",
       "      <td>695.000000</td>\n",
       "      <td>694.150024</td>\n",
       "      <td>698.855835</td>\n",
       "      <td>692.950684</td>\n",
       "    </tr>\n",
       "    <tr>\n",
       "      <th>2022-01-12</th>\n",
       "      <td>700.000000</td>\n",
       "      <td>691.349976</td>\n",
       "      <td>699.315674</td>\n",
       "      <td>693.654785</td>\n",
       "    </tr>\n",
       "    <tr>\n",
       "      <th>2022-01-13</th>\n",
       "      <td>663.200012</td>\n",
       "      <td>649.750000</td>\n",
       "      <td>696.118652</td>\n",
       "      <td>690.480530</td>\n",
       "    </tr>\n",
       "    <tr>\n",
       "      <th>2022-01-14</th>\n",
       "      <td>649.250000</td>\n",
       "      <td>639.799988</td>\n",
       "      <td>660.040771</td>\n",
       "      <td>654.706726</td>\n",
       "    </tr>\n",
       "  </tbody>\n",
       "</table>\n",
       "</div>"
      ],
      "text/plain": [
       "                  Open       Close  open_predicted  close_predicted\n",
       "Date                                                               \n",
       "2022-01-10  709.000000  693.500000      715.439392       709.518799\n",
       "2022-01-11  695.000000  694.150024      698.855835       692.950684\n",
       "2022-01-12  700.000000  691.349976      699.315674       693.654785\n",
       "2022-01-13  663.200012  649.750000      696.118652       690.480530\n",
       "2022-01-14  649.250000  639.799988      660.040771       654.706726"
      ]
     },
     "execution_count": 25,
     "metadata": {},
     "output_type": "execute_result"
    }
   ],
   "source": [
    "stk_slic_data.head()"
   ]
  },
  {
   "cell_type": "code",
   "execution_count": 27,
   "id": "09a2ad13",
   "metadata": {},
   "outputs": [
    {
     "data": {
      "image/png": "[encoded data removed]",
      "text/plain": [
       "<Figure size 1440x504 with 1 Axes>"
      ]
     },
     "metadata": {
      "needs_background": "light"
     },
     "output_type": "display_data"
    }
   ],
   "source": [
    "stk_slic_data[['Open','open_predicted']].plot(figsize=(20,7))\n",
    "plt.xticks(rotation=45)\n",
    "plt.xlabel('Date',size=15)\n",
    "plt.ylabel('Stock Price',size=15)\n",
    "plt.title('Actual vs Predicted for open price',size=15)\n",
    "plt.show()"
   ]
  },
  {
   "cell_type": "code",
   "execution_count": 28,
   "id": "392a46c3",
   "metadata": {},
   "outputs": [
    {
     "data": {
      "image/png": "[encoded data removed]",
      "text/plain": [
       "<Figure size 864x432 with 1 Axes>"
      ]
     },
     "metadata": {
      "needs_background": "light"
     },
     "output_type": "display_data"
    }
   ],
   "source": [
    "stk_slic_data[['Close','close_predicted']].plot(figsize=(12,6))\n",
    "plt.xticks(rotation=45)\n",
    "plt.xlabel('Date',size=15)\n",
    "plt.ylabel('Stock Price',size=15)\n",
    "plt.title('Actual vs Predicted for Close price',size=15)\n",
    "plt.show()"
   ]
  }
 ],
 "metadata": {
  "kernelspec": {
   "display_name": "Python 3 (ipykernel)",
   "language": "python",
   "name": "python3"
  },
  "language_info": {
   "codemirror_mode": {
    "name": "ipython",
    "version": 3
   },
   "file_extension": ".py",
   "mimetype": "text/x-python",
   "name": "python",
   "nbconvert_exporter": "python",
   "pygments_lexer": "ipython3",
   "version": "3.9.12"
  }
 },
 "nbformat": 4,
 "nbformat_minor": 5
}
